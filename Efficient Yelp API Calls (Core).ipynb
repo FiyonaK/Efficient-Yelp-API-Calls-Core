{
 "cells": [
  {
   "cell_type": "code",
   "execution_count": 1,
   "id": "92d2449d-dffd-4eba-ac6e-ab4088a723d7",
   "metadata": {},
   "outputs": [],
   "source": [
    "# Standard Imports\n",
    "import numpy as np\n",
    "import pandas as pd\n",
    "import matplotlib.pyplot as plt\n",
    "import seaborn as sns\n",
    "# Additional Imports\n",
    "import os, json, math, time\n",
    "from yelpapi import YelpAPI\n",
    "from tqdm.notebook import tqdm_notebook"
   ]
  },
  {
   "cell_type": "code",
   "execution_count": 2,
   "id": "5f067915-de44-4ced-a3d7-e7851a43f106",
   "metadata": {},
   "outputs": [],
   "source": [
    "# Load API Credentials\n",
    "with open('/Users/X435518/.secret/yelp_api.json') as f:  \n",
    "    login = json.load(f)\n",
    "# Instantiate YelpAPI Variable\n",
    "yelp_api = YelpAPI(login['api-key'], timeout_s=5.0)"
   ]
  },
  {
   "cell_type": "code",
   "execution_count": 3,
   "id": "32b7ce3f-1e3b-48ff-94ac-8e24a6039e37",
   "metadata": {},
   "outputs": [],
   "source": [
    "# set our API call parameters \n",
    "LOCATION = 'NY,NY'\n",
    "TERM = 'Thai'"
   ]
  },
  {
   "cell_type": "code",
   "execution_count": 4,
   "id": "60450420-c357-411f-8fc9-ad0e0ec884cc",
   "metadata": {},
   "outputs": [
    {
     "data": {
      "text/plain": [
       "'Data/results_in_progress_NY_Thai.json'"
      ]
     },
     "execution_count": 4,
     "metadata": {},
     "output_type": "execute_result"
    }
   ],
   "source": [
    "# Specifying JSON_FILE filename (can include a folder)\n",
    "# include the search terms in the filename\n",
    "JSON_FILE = \"Data/results_in_progress_NY_Thai.json\"\n",
    "JSON_FILE"
   ]
  },
  {
   "cell_type": "code",
   "execution_count": 5,
   "id": "08b9ff3f-5876-4eb8-9c1e-ece4efe93068",
   "metadata": {},
   "outputs": [
    {
     "name": "stdout",
     "output_type": "stream",
     "text": [
      "[i] Data/results_in_progress_NY_Thai.json not found. Saving empty list to file.\n"
     ]
    }
   ],
   "source": [
    "## Check if JSON_FILE exists\n",
    "file_exists = os.path.isfile(JSON_FILE)\n",
    "## If it does not exist: \n",
    "if file_exists == False:\n",
    "    \n",
    "    ## CREATE ANY NEEDED FOLDERS\n",
    "    # Get the Folder Name only\n",
    "    folder = os.path.dirname(JSON_FILE)\n",
    "    ## If JSON_FILE included a folder:\n",
    "    if len(folder)>0:\n",
    "        # create the folder\n",
    "        os.makedirs(folder,exist_ok=True)\n",
    "        \n",
    "        \n",
    "    ## INFORM USER AND SAVE EMPTY LIST\n",
    "    print(f'[i] {JSON_FILE} not found. Saving empty list to file.')\n",
    "    \n",
    "    \n",
    "    # save an empty list\n",
    "    with open(JSON_FILE,'w') as f:\n",
    "        json.dump([],f)  \n",
    "# If it exists, inform user\n",
    "else:\n",
    "    print(f\"[i] {JSON_FILE} already exists.\")"
   ]
  },
  {
   "cell_type": "code",
   "execution_count": 6,
   "id": "623b9f3d-4e38-4533-95d9-ee69627de6c9",
   "metadata": {},
   "outputs": [
    {
     "name": "stdout",
     "output_type": "stream",
     "text": [
      "- 0 previous results found.\n"
     ]
    }
   ],
   "source": [
    "## Load previous results and use len of results for offset\n",
    "with open(JSON_FILE,'r') as f:\n",
    "    previous_results = json.load(f)\n",
    "    \n",
    "## set offset based on previous results\n",
    "n_results = len(previous_results)\n",
    "print(f'- {n_results} previous results found.')"
   ]
  },
  {
   "cell_type": "code",
   "execution_count": 7,
   "id": "09c191fd-7d26-4569-a72d-70c0e0091482",
   "metadata": {},
   "outputs": [
    {
     "data": {
      "text/plain": [
       "dict_keys(['businesses', 'total', 'region'])"
      ]
     },
     "execution_count": 7,
     "metadata": {},
     "output_type": "execute_result"
    }
   ],
   "source": [
    "# use our yelp_api variable's search_query method to perform our API call\n",
    "results = yelp_api.search_query(location=LOCATION,\n",
    "                                term=TERM,\n",
    "                               offset=n_results)\n",
    "results.keys()"
   ]
  },
  {
   "cell_type": "code",
   "execution_count": 8,
   "id": "f6655470-0bd0-4084-a020-5a5a4abcf5ee",
   "metadata": {},
   "outputs": [
    {
     "data": {
      "text/plain": [
       "2900"
      ]
     },
     "execution_count": 8,
     "metadata": {},
     "output_type": "execute_result"
    }
   ],
   "source": [
    "## How many results total?\n",
    "total_results = results['total']\n",
    "total_results"
   ]
  },
  {
   "cell_type": "code",
   "execution_count": 9,
   "id": "1ad18926-92b0-40db-a0d5-9fbb8e7127aa",
   "metadata": {},
   "outputs": [
    {
     "data": {
      "text/plain": [
       "20"
      ]
     },
     "execution_count": 9,
     "metadata": {},
     "output_type": "execute_result"
    }
   ],
   "source": [
    "## How many did we get the details for?\n",
    "results_per_page = len(results['businesses'])\n",
    "results_per_page"
   ]
  },
  {
   "cell_type": "code",
   "execution_count": 10,
   "id": "ebb37131-3cb2-40fc-805d-555bcda8f3da",
   "metadata": {},
   "outputs": [
    {
     "data": {
      "text/plain": [
       "145"
      ]
     },
     "execution_count": 10,
     "metadata": {},
     "output_type": "execute_result"
    }
   ],
   "source": [
    "# Use math.ceil to round up for the total number of pages of results.\n",
    "n_pages = math.ceil((results['total']-n_results)/ results_per_page)\n",
    "n_pages"
   ]
  },
  {
   "cell_type": "code",
   "execution_count": 11,
   "id": "bf442856-1a76-4d57-b79c-3824a4b2cdd6",
   "metadata": {},
   "outputs": [],
   "source": [
    "# join new results with old list with extend and save to file\n",
    "previous_results.extend(results['businesses'])  \n",
    "with open(JSON_FILE,'w') as f:\n",
    "     json.dump(previous_results,f)"
   ]
  },
  {
   "cell_type": "code",
   "execution_count": 12,
   "id": "6140831c-0dd1-4fc7-96c3-09c6c366b861",
   "metadata": {},
   "outputs": [
    {
     "data": {
      "application/vnd.jupyter.widget-view+json": {
       "model_id": "9001c476f2f341d09d053bea047e82f2",
       "version_major": 2,
       "version_minor": 0
      },
      "text/plain": [
       "  0%|          | 0/145 [00:00<?, ?it/s]"
      ]
     },
     "metadata": {},
     "output_type": "display_data"
    }
   ],
   "source": [
    "for i in tqdm_notebook(range(n_pages)):\n",
    "    # adds 200 ms pause\n",
    "    time.sleep(.2) "
   ]
  },
  {
   "cell_type": "code",
   "execution_count": 13,
   "id": "7069404b-267a-4fca-9487-caf0ef2e5d2f",
   "metadata": {},
   "outputs": [
    {
     "data": {
      "application/vnd.jupyter.widget-view+json": {
       "model_id": "65a805a6461f42ae899794bb0320e489",
       "version_major": 2,
       "version_minor": 0
      },
      "text/plain": [
       "  0%|          | 0/145 [00:00<?, ?it/s]"
      ]
     },
     "metadata": {},
     "output_type": "display_data"
    },
    {
     "ename": "HTTPError",
     "evalue": "400 Client Error: Bad Request for url: https://api.yelp.com/v3/businesses/search?location=NY%2CNY&term=Thai&offset=1000",
     "output_type": "error",
     "traceback": [
      "\u001b[1;31m---------------------------------------------------------------------------\u001b[0m",
      "\u001b[1;31mHTTPError\u001b[0m                                 Traceback (most recent call last)",
      "Cell \u001b[1;32mIn[13], line 9\u001b[0m\n\u001b[0;32m      7\u001b[0m n_results \u001b[38;5;241m=\u001b[39m \u001b[38;5;28mlen\u001b[39m(previous_results)\n\u001b[0;32m      8\u001b[0m \u001b[38;5;66;03m## use n_results as the OFFSET \u001b[39;00m\n\u001b[1;32m----> 9\u001b[0m results \u001b[38;5;241m=\u001b[39m \u001b[43myelp_api\u001b[49m\u001b[38;5;241;43m.\u001b[39;49m\u001b[43msearch_query\u001b[49m\u001b[43m(\u001b[49m\u001b[43mlocation\u001b[49m\u001b[38;5;241;43m=\u001b[39;49m\u001b[43mLOCATION\u001b[49m\u001b[43m,\u001b[49m\n\u001b[0;32m     10\u001b[0m \u001b[43m                                \u001b[49m\u001b[43mterm\u001b[49m\u001b[38;5;241;43m=\u001b[39;49m\u001b[43mTERM\u001b[49m\u001b[43m,\u001b[49m\u001b[43m \u001b[49m\n\u001b[0;32m     11\u001b[0m \u001b[43m                                \u001b[49m\u001b[43moffset\u001b[49m\u001b[38;5;241;43m=\u001b[39;49m\u001b[43mn_results\u001b[49m\u001b[43m)\u001b[49m\n\u001b[0;32m     13\u001b[0m \u001b[38;5;66;03m## append new results and save to file\u001b[39;00m\n\u001b[0;32m     14\u001b[0m previous_results\u001b[38;5;241m.\u001b[39mextend(results[\u001b[38;5;124m'\u001b[39m\u001b[38;5;124mbusinesses\u001b[39m\u001b[38;5;124m'\u001b[39m])\n",
      "File \u001b[1;32m~\\AppData\\Local\\anaconda3\\envs\\dojo-env\\lib\\site-packages\\yelpapi\\yelpapi.py:251\u001b[0m, in \u001b[0;36mYelpAPI.search_query\u001b[1;34m(self, **kwargs)\u001b[0m\n\u001b[0;32m    247\u001b[0m \u001b[38;5;28;01mif\u001b[39;00m \u001b[38;5;129;01mnot\u001b[39;00m kwargs\u001b[38;5;241m.\u001b[39mget(\u001b[38;5;124m'\u001b[39m\u001b[38;5;124mlocation\u001b[39m\u001b[38;5;124m'\u001b[39m) \u001b[38;5;129;01mand\u001b[39;00m (\u001b[38;5;129;01mnot\u001b[39;00m kwargs\u001b[38;5;241m.\u001b[39mget(\u001b[38;5;124m'\u001b[39m\u001b[38;5;124mlatitude\u001b[39m\u001b[38;5;124m'\u001b[39m) \u001b[38;5;129;01mor\u001b[39;00m \u001b[38;5;129;01mnot\u001b[39;00m kwargs\u001b[38;5;241m.\u001b[39mget(\u001b[38;5;124m'\u001b[39m\u001b[38;5;124mlongitude\u001b[39m\u001b[38;5;124m'\u001b[39m)):\n\u001b[0;32m    248\u001b[0m     \u001b[38;5;28;01mraise\u001b[39;00m \u001b[38;5;167;01mValueError\u001b[39;00m(\u001b[38;5;124m'\u001b[39m\u001b[38;5;124mA valid location (parameter \u001b[39m\u001b[38;5;124m\"\u001b[39m\u001b[38;5;124mlocation\u001b[39m\u001b[38;5;124m\"\u001b[39m\u001b[38;5;124m) or latitude/longitude combination \u001b[39m\u001b[38;5;124m'\u001b[39m\n\u001b[0;32m    249\u001b[0m                      \u001b[38;5;124m'\u001b[39m\u001b[38;5;124m(parameters \u001b[39m\u001b[38;5;124m\"\u001b[39m\u001b[38;5;124mlatitude\u001b[39m\u001b[38;5;124m\"\u001b[39m\u001b[38;5;124m and \u001b[39m\u001b[38;5;124m\"\u001b[39m\u001b[38;5;124mlongitude\u001b[39m\u001b[38;5;124m\"\u001b[39m\u001b[38;5;124m) must be provided.\u001b[39m\u001b[38;5;124m'\u001b[39m)\n\u001b[1;32m--> 251\u001b[0m \u001b[38;5;28;01mreturn\u001b[39;00m \u001b[38;5;28mself\u001b[39m\u001b[38;5;241m.\u001b[39m_query(SEARCH_API_URL, \u001b[38;5;241m*\u001b[39m\u001b[38;5;241m*\u001b[39mkwargs)\n",
      "File \u001b[1;32m~\\AppData\\Local\\anaconda3\\envs\\dojo-env\\lib\\site-packages\\yelpapi\\yelpapi.py:293\u001b[0m, in \u001b[0;36mYelpAPI._query\u001b[1;34m(self, url, **kwargs)\u001b[0m\n\u001b[0;32m    286\u001b[0m parameters \u001b[38;5;241m=\u001b[39m YelpAPI\u001b[38;5;241m.\u001b[39m_get_clean_parameters(kwargs)\n\u001b[0;32m    287\u001b[0m response \u001b[38;5;241m=\u001b[39m \u001b[38;5;28mself\u001b[39m\u001b[38;5;241m.\u001b[39m_yelp_session\u001b[38;5;241m.\u001b[39mget(\n\u001b[0;32m    288\u001b[0m     url,\n\u001b[0;32m    289\u001b[0m     headers\u001b[38;5;241m=\u001b[39m\u001b[38;5;28mself\u001b[39m\u001b[38;5;241m.\u001b[39m_headers,\n\u001b[0;32m    290\u001b[0m     params\u001b[38;5;241m=\u001b[39mparameters,\n\u001b[0;32m    291\u001b[0m     timeout\u001b[38;5;241m=\u001b[39m\u001b[38;5;28mself\u001b[39m\u001b[38;5;241m.\u001b[39m_timeout_s,\n\u001b[0;32m    292\u001b[0m )\n\u001b[1;32m--> 293\u001b[0m \u001b[43mresponse\u001b[49m\u001b[38;5;241;43m.\u001b[39;49m\u001b[43mraise_for_status\u001b[49m\u001b[43m(\u001b[49m\u001b[43m)\u001b[49m  \u001b[38;5;66;03m# will raise error if error status code received: https://requests.readthedocs.io/en/latest/api/#requests.Response.raise_for_status\u001b[39;00m\n\u001b[0;32m    295\u001b[0m response_json \u001b[38;5;241m=\u001b[39m response\u001b[38;5;241m.\u001b[39mjson()  \u001b[38;5;66;03m# shouldn't happen, but this will raise a ValueError if the response isn't JSON\u001b[39;00m\n\u001b[0;32m    297\u001b[0m \u001b[38;5;66;03m# Yelp can return one of many different API errors, so check for one of them.\u001b[39;00m\n\u001b[0;32m    298\u001b[0m \u001b[38;5;66;03m# The Yelp Fusion API does not yet have a complete list of errors, but this is on the TODO list; see\u001b[39;00m\n\u001b[0;32m    299\u001b[0m \u001b[38;5;66;03m# https://github.com/Yelp/yelp-fusion/issues/95 for more info.\u001b[39;00m\n",
      "File \u001b[1;32m~\\AppData\\Local\\anaconda3\\envs\\dojo-env\\lib\\site-packages\\requests\\models.py:1021\u001b[0m, in \u001b[0;36mResponse.raise_for_status\u001b[1;34m(self)\u001b[0m\n\u001b[0;32m   1016\u001b[0m     http_error_msg \u001b[38;5;241m=\u001b[39m (\n\u001b[0;32m   1017\u001b[0m         \u001b[38;5;124mf\u001b[39m\u001b[38;5;124m\"\u001b[39m\u001b[38;5;132;01m{\u001b[39;00m\u001b[38;5;28mself\u001b[39m\u001b[38;5;241m.\u001b[39mstatus_code\u001b[38;5;132;01m}\u001b[39;00m\u001b[38;5;124m Server Error: \u001b[39m\u001b[38;5;132;01m{\u001b[39;00mreason\u001b[38;5;132;01m}\u001b[39;00m\u001b[38;5;124m for url: \u001b[39m\u001b[38;5;132;01m{\u001b[39;00m\u001b[38;5;28mself\u001b[39m\u001b[38;5;241m.\u001b[39murl\u001b[38;5;132;01m}\u001b[39;00m\u001b[38;5;124m\"\u001b[39m\n\u001b[0;32m   1018\u001b[0m     )\n\u001b[0;32m   1020\u001b[0m \u001b[38;5;28;01mif\u001b[39;00m http_error_msg:\n\u001b[1;32m-> 1021\u001b[0m     \u001b[38;5;28;01mraise\u001b[39;00m HTTPError(http_error_msg, response\u001b[38;5;241m=\u001b[39m\u001b[38;5;28mself\u001b[39m)\n",
      "\u001b[1;31mHTTPError\u001b[0m: 400 Client Error: Bad Request for url: https://api.yelp.com/v3/businesses/search?location=NY%2CNY&term=Thai&offset=1000"
     ]
    }
   ],
   "source": [
    "for i in tqdm_notebook( range(1,n_pages+1)):\n",
    "    \n",
    "    ## Read in results in progress file and check the length\n",
    "    with open(JSON_FILE, 'r') as f:\n",
    "        previous_results = json.load(f)\n",
    "    ## save number of results for to use as offset\n",
    "    n_results = len(previous_results)\n",
    "    ## use n_results as the OFFSET \n",
    "    results = yelp_api.search_query(location=LOCATION,\n",
    "                                    term=TERM, \n",
    "                                    offset=n_results)\n",
    "    \n",
    "    ## append new results and save to file\n",
    "    previous_results.extend(results['businesses'])\n",
    "    \n",
    "    with open(JSON_FILE,'w') as f:\n",
    "        json.dump(previous_results,f)\n",
    "    \n",
    "    # add a 200ms pause\n",
    "    time.sleep(.2)"
   ]
  },
  {
   "cell_type": "code",
   "execution_count": 14,
   "id": "5dcbd217-c86b-40a6-85e1-c3b44e37f698",
   "metadata": {},
   "outputs": [
    {
     "data": {
      "text/plain": [
       "False"
      ]
     },
     "execution_count": 14,
     "metadata": {},
     "output_type": "execute_result"
    }
   ],
   "source": [
    "## delete file and confirm it no longer exits.\n",
    "os.remove(JSON_FILE)\n",
    "os.path.isfile(JSON_FILE)"
   ]
  },
  {
   "cell_type": "code",
   "execution_count": 17,
   "id": "87bb9f7f-8540-465a-ba82-cbe25642c535",
   "metadata": {},
   "outputs": [],
   "source": [
    "def create_json_file(JSON_FILE,  delete_if_exists=False):\n",
    "    \n",
    "    ## Check if JSON_FILE exists\n",
    "    file_exists = os.path.isfile(JSON_FILE)\n",
    "    \n",
    "    ## If it DOES exist:\n",
    "    if file_exists == True:\n",
    "        \n",
    "        ## Check if user wants to delete if exists\n",
    "        if delete_if_exists==True:\n",
    "            \n",
    "            print(f\"[!] {JSON_FILE} already exists. Deleting previous file...\")\n",
    "            ## delete file and confirm it no longer exits.\n",
    "            os.remove(JSON_FILE)\n",
    "            ## Recursive call to function after old file deleted\n",
    "            create_json_file(JSON_FILE,delete_if_exists=False)\n",
    "        else:\n",
    "            print(f\"[i] {JSON_FILE} already exists.\")            \n",
    "            \n",
    "            \n",
    "    ## If it does NOT exist:\n",
    "    else:\n",
    "        \n",
    "        ## INFORM USER AND SAVE EMPTY LIST\n",
    "        print(f\"[i] {JSON_FILE} not found. Saving empty list to new file.\")\n",
    "        \n",
    "        ## CREATE ANY NEEDED FOLDERS\n",
    "        # Get the Folder Name only\n",
    "        folder = os.path.dirname(JSON_FILE)\n",
    "        \n",
    "        ## If JSON_FILE included a folder:\n",
    "        if len(folder)>0:\n",
    "            # create the folder\n",
    "            os.makedirs(folder,exist_ok=True)\n",
    "        ## Save empty list to start the json file\n",
    "        with open(JSON_FILE,'w') as f:\n",
    "            json.dump([],f)  "
   ]
  },
  {
   "cell_type": "code",
   "execution_count": 18,
   "id": "f273ed9b-7efa-47cf-92ed-10b2a29335df",
   "metadata": {},
   "outputs": [
    {
     "name": "stdout",
     "output_type": "stream",
     "text": [
      "[i] Data/results_in_progress_NY_Thai.json not found. Saving empty list to new file.\n",
      "- 0 previous results found.\n"
     ]
    },
    {
     "data": {
      "text/plain": [
       "145"
      ]
     },
     "execution_count": 18,
     "metadata": {},
     "output_type": "execute_result"
    }
   ],
   "source": [
    "## Create a new empty json file (exist the previous if it exists)\n",
    "create_json_file(JSON_FILE, delete_if_exists=True)\n",
    "## Load previous results and use len of results for offset\n",
    "with open(JSON_FILE,'r') as f:\n",
    "    previous_results = json.load(f)\n",
    "    \n",
    "## set offset based on previous results\n",
    "n_results = len(previous_results)\n",
    "print(f'- {n_results} previous results found.')\n",
    "# use our yelp_api variable's search_query method to perform our API call\n",
    "results = yelp_api.search_query(location=LOCATION,\n",
    "                                term=TERM,\n",
    "                               offset=n_results)\n",
    "## How many results total?\n",
    "total_results = results['total']\n",
    "## How many did we get the details for?\n",
    "results_per_page = len(results['businesses'])\n",
    "# Use math.ceil to round up for the total number of pages of results.\n",
    "n_pages = math.ceil((results['total']-n_results)/ results_per_page)\n",
    "n_pages"
   ]
  },
  {
   "cell_type": "code",
   "execution_count": 19,
   "id": "35f92151-fc35-445f-b5f7-e9ef70c6b11c",
   "metadata": {},
   "outputs": [
    {
     "data": {
      "application/vnd.jupyter.widget-view+json": {
       "model_id": "3c8128ef6d974a5d8c0497a89c26032f",
       "version_major": 2,
       "version_minor": 0
      },
      "text/plain": [
       "  0%|          | 0/145 [00:00<?, ?it/s]"
      ]
     },
     "metadata": {},
     "output_type": "display_data"
    },
    {
     "name": "stdout",
     "output_type": "stream",
     "text": [
      "Exceeded 1000 api calls. Stopping loop.\n"
     ]
    }
   ],
   "source": [
    "for i in tqdm_notebook( range(1,n_pages+1)):\n",
    "    \n",
    "    ## Read in results in progress file and check the length\n",
    "    with open(JSON_FILE, 'r') as f:\n",
    "        previous_results = json.load(f)\n",
    "    ## save number of results for to use as offset\n",
    "    n_results = len(previous_results)\n",
    "    \n",
    "    if (n_results + results_per_page) > 1000:\n",
    "        print('Exceeded 1000 api calls. Stopping loop.')\n",
    "        break\n",
    "    \n",
    "    ## use n_results as the OFFSET \n",
    "    results = yelp_api.search_query(location=LOCATION,\n",
    "                                    term=TERM, \n",
    "                                    offset=n_results)\n",
    "    \n",
    "    \n",
    "    \n",
    "    ## append new results and save to file\n",
    "    previous_results.extend(results['businesses'])\n",
    "    \n",
    "    # display(previous_results)\n",
    "    with open(JSON_FILE,'w') as f:\n",
    "        json.dump(previous_results,f)\n",
    "    \n",
    "    time.sleep(.2)"
   ]
  },
  {
   "cell_type": "code",
   "execution_count": 20,
   "id": "23eee9bd-53dd-42b6-aae3-6e8b8ca7d88d",
   "metadata": {},
   "outputs": [
    {
     "data": {
      "text/html": [
       "<div>\n",
       "<style scoped>\n",
       "    .dataframe tbody tr th:only-of-type {\n",
       "        vertical-align: middle;\n",
       "    }\n",
       "\n",
       "    .dataframe tbody tr th {\n",
       "        vertical-align: top;\n",
       "    }\n",
       "\n",
       "    .dataframe thead th {\n",
       "        text-align: right;\n",
       "    }\n",
       "</style>\n",
       "<table border=\"1\" class=\"dataframe\">\n",
       "  <thead>\n",
       "    <tr style=\"text-align: right;\">\n",
       "      <th></th>\n",
       "      <th>id</th>\n",
       "      <th>alias</th>\n",
       "      <th>name</th>\n",
       "      <th>image_url</th>\n",
       "      <th>is_closed</th>\n",
       "      <th>url</th>\n",
       "      <th>review_count</th>\n",
       "      <th>categories</th>\n",
       "      <th>rating</th>\n",
       "      <th>coordinates</th>\n",
       "      <th>transactions</th>\n",
       "      <th>price</th>\n",
       "      <th>location</th>\n",
       "      <th>phone</th>\n",
       "      <th>display_phone</th>\n",
       "      <th>distance</th>\n",
       "    </tr>\n",
       "  </thead>\n",
       "  <tbody>\n",
       "    <tr>\n",
       "      <th>0</th>\n",
       "      <td>jjJc_CrkB2HodEinB6cWww</td>\n",
       "      <td>lovemama-new-york</td>\n",
       "      <td>LoveMama</td>\n",
       "      <td>https://s3-media1.fl.yelpcdn.com/bphoto/bLlFKT...</td>\n",
       "      <td>False</td>\n",
       "      <td>https://www.yelp.com/biz/lovemama-new-york?adj...</td>\n",
       "      <td>6571</td>\n",
       "      <td>[{'alias': 'thai', 'title': 'Thai'}, {'alias':...</td>\n",
       "      <td>4.5</td>\n",
       "      <td>{'latitude': 40.730408722512074, 'longitude': ...</td>\n",
       "      <td>[delivery, pickup, restaurant_reservation]</td>\n",
       "      <td>$$</td>\n",
       "      <td>{'address1': '174 2nd Ave', 'address2': '', 'a...</td>\n",
       "      <td>+12122545370</td>\n",
       "      <td>(212) 254-5370</td>\n",
       "      <td>2859.902795</td>\n",
       "    </tr>\n",
       "    <tr>\n",
       "      <th>1</th>\n",
       "      <td>-XYp6w50XbZfS90YddS5ew</td>\n",
       "      <td>soothr-new-york-2</td>\n",
       "      <td>Soothr</td>\n",
       "      <td>https://s3-media2.fl.yelpcdn.com/bphoto/HxjVE7...</td>\n",
       "      <td>False</td>\n",
       "      <td>https://www.yelp.com/biz/soothr-new-york-2?adj...</td>\n",
       "      <td>1149</td>\n",
       "      <td>[{'alias': 'thai', 'title': 'Thai'}, {'alias':...</td>\n",
       "      <td>4.5</td>\n",
       "      <td>{'latitude': 40.732259, 'longitude': -73.987363}</td>\n",
       "      <td>[delivery, pickup]</td>\n",
       "      <td>$$</td>\n",
       "      <td>{'address1': '204 E 13th St', 'address2': '', ...</td>\n",
       "      <td>+12128449789</td>\n",
       "      <td>(212) 844-9789</td>\n",
       "      <td>3043.263183</td>\n",
       "    </tr>\n",
       "    <tr>\n",
       "      <th>2</th>\n",
       "      <td>0IFDnYf3bhqxJR6hVrG7Gw</td>\n",
       "      <td>top-thai-vintage-new-york-3</td>\n",
       "      <td>Top Thai Vintage</td>\n",
       "      <td>https://s3-media3.fl.yelpcdn.com/bphoto/-ZoEVV...</td>\n",
       "      <td>False</td>\n",
       "      <td>https://www.yelp.com/biz/top-thai-vintage-new-...</td>\n",
       "      <td>1126</td>\n",
       "      <td>[{'alias': 'thai', 'title': 'Thai'}, {'alias':...</td>\n",
       "      <td>4.5</td>\n",
       "      <td>{'latitude': 40.729907419973344, 'longitude': ...</td>\n",
       "      <td>[delivery, pickup, restaurant_reservation]</td>\n",
       "      <td>$$$</td>\n",
       "      <td>{'address1': '55 Carmine St', 'address2': None...</td>\n",
       "      <td>+16466092272</td>\n",
       "      <td>(646) 609-2272</td>\n",
       "      <td>2845.705425</td>\n",
       "    </tr>\n",
       "    <tr>\n",
       "      <th>3</th>\n",
       "      <td>B3_K2kUVbYOU0VaLcj_LTw</td>\n",
       "      <td>thai-villa-new-york-2</td>\n",
       "      <td>Thai Villa</td>\n",
       "      <td>https://s3-media1.fl.yelpcdn.com/bphoto/IxshIB...</td>\n",
       "      <td>False</td>\n",
       "      <td>https://www.yelp.com/biz/thai-villa-new-york-2...</td>\n",
       "      <td>4834</td>\n",
       "      <td>[{'alias': 'thai', 'title': 'Thai'}]</td>\n",
       "      <td>4.5</td>\n",
       "      <td>{'latitude': 40.73902, 'longitude': -73.99065}</td>\n",
       "      <td>[delivery, pickup]</td>\n",
       "      <td>$$</td>\n",
       "      <td>{'address1': '5 E 19th St', 'address2': 'G Flo...</td>\n",
       "      <td>+12128029999</td>\n",
       "      <td>(212) 802-9999</td>\n",
       "      <td>3744.570400</td>\n",
       "    </tr>\n",
       "    <tr>\n",
       "      <th>4</th>\n",
       "      <td>egDEaHpDumYHzRUZ8JBU-w</td>\n",
       "      <td>pranakhon-thai-restaurant-new-york-2</td>\n",
       "      <td>Pranakhon Thai Restaurant</td>\n",
       "      <td>https://s3-media1.fl.yelpcdn.com/bphoto/XB_CUH...</td>\n",
       "      <td>False</td>\n",
       "      <td>https://www.yelp.com/biz/pranakhon-thai-restau...</td>\n",
       "      <td>302</td>\n",
       "      <td>[{'alias': 'thai', 'title': 'Thai'}, {'alias':...</td>\n",
       "      <td>4.5</td>\n",
       "      <td>{'latitude': 40.73369, 'longitude': -73.99316}</td>\n",
       "      <td>[delivery, pickup]</td>\n",
       "      <td>NaN</td>\n",
       "      <td>{'address1': '88 University Pl', 'address2': N...</td>\n",
       "      <td>+12127866789</td>\n",
       "      <td>(212) 786-6789</td>\n",
       "      <td>3144.403563</td>\n",
       "    </tr>\n",
       "  </tbody>\n",
       "</table>\n",
       "</div>"
      ],
      "text/plain": [
       "                       id                                 alias  \\\n",
       "0  jjJc_CrkB2HodEinB6cWww                     lovemama-new-york   \n",
       "1  -XYp6w50XbZfS90YddS5ew                     soothr-new-york-2   \n",
       "2  0IFDnYf3bhqxJR6hVrG7Gw           top-thai-vintage-new-york-3   \n",
       "3  B3_K2kUVbYOU0VaLcj_LTw                 thai-villa-new-york-2   \n",
       "4  egDEaHpDumYHzRUZ8JBU-w  pranakhon-thai-restaurant-new-york-2   \n",
       "\n",
       "                        name  \\\n",
       "0                   LoveMama   \n",
       "1                     Soothr   \n",
       "2           Top Thai Vintage   \n",
       "3                 Thai Villa   \n",
       "4  Pranakhon Thai Restaurant   \n",
       "\n",
       "                                           image_url  is_closed  \\\n",
       "0  https://s3-media1.fl.yelpcdn.com/bphoto/bLlFKT...      False   \n",
       "1  https://s3-media2.fl.yelpcdn.com/bphoto/HxjVE7...      False   \n",
       "2  https://s3-media3.fl.yelpcdn.com/bphoto/-ZoEVV...      False   \n",
       "3  https://s3-media1.fl.yelpcdn.com/bphoto/IxshIB...      False   \n",
       "4  https://s3-media1.fl.yelpcdn.com/bphoto/XB_CUH...      False   \n",
       "\n",
       "                                                 url  review_count  \\\n",
       "0  https://www.yelp.com/biz/lovemama-new-york?adj...          6571   \n",
       "1  https://www.yelp.com/biz/soothr-new-york-2?adj...          1149   \n",
       "2  https://www.yelp.com/biz/top-thai-vintage-new-...          1126   \n",
       "3  https://www.yelp.com/biz/thai-villa-new-york-2...          4834   \n",
       "4  https://www.yelp.com/biz/pranakhon-thai-restau...           302   \n",
       "\n",
       "                                          categories  rating  \\\n",
       "0  [{'alias': 'thai', 'title': 'Thai'}, {'alias':...     4.5   \n",
       "1  [{'alias': 'thai', 'title': 'Thai'}, {'alias':...     4.5   \n",
       "2  [{'alias': 'thai', 'title': 'Thai'}, {'alias':...     4.5   \n",
       "3               [{'alias': 'thai', 'title': 'Thai'}]     4.5   \n",
       "4  [{'alias': 'thai', 'title': 'Thai'}, {'alias':...     4.5   \n",
       "\n",
       "                                         coordinates  \\\n",
       "0  {'latitude': 40.730408722512074, 'longitude': ...   \n",
       "1   {'latitude': 40.732259, 'longitude': -73.987363}   \n",
       "2  {'latitude': 40.729907419973344, 'longitude': ...   \n",
       "3     {'latitude': 40.73902, 'longitude': -73.99065}   \n",
       "4     {'latitude': 40.73369, 'longitude': -73.99316}   \n",
       "\n",
       "                                 transactions price  \\\n",
       "0  [delivery, pickup, restaurant_reservation]    $$   \n",
       "1                          [delivery, pickup]    $$   \n",
       "2  [delivery, pickup, restaurant_reservation]   $$$   \n",
       "3                          [delivery, pickup]    $$   \n",
       "4                          [delivery, pickup]   NaN   \n",
       "\n",
       "                                            location         phone  \\\n",
       "0  {'address1': '174 2nd Ave', 'address2': '', 'a...  +12122545370   \n",
       "1  {'address1': '204 E 13th St', 'address2': '', ...  +12128449789   \n",
       "2  {'address1': '55 Carmine St', 'address2': None...  +16466092272   \n",
       "3  {'address1': '5 E 19th St', 'address2': 'G Flo...  +12128029999   \n",
       "4  {'address1': '88 University Pl', 'address2': N...  +12127866789   \n",
       "\n",
       "    display_phone     distance  \n",
       "0  (212) 254-5370  2859.902795  \n",
       "1  (212) 844-9789  3043.263183  \n",
       "2  (646) 609-2272  2845.705425  \n",
       "3  (212) 802-9999  3744.570400  \n",
       "4  (212) 786-6789  3144.403563  "
      ]
     },
     "metadata": {},
     "output_type": "display_data"
    },
    {
     "data": {
      "text/html": [
       "<div>\n",
       "<style scoped>\n",
       "    .dataframe tbody tr th:only-of-type {\n",
       "        vertical-align: middle;\n",
       "    }\n",
       "\n",
       "    .dataframe tbody tr th {\n",
       "        vertical-align: top;\n",
       "    }\n",
       "\n",
       "    .dataframe thead th {\n",
       "        text-align: right;\n",
       "    }\n",
       "</style>\n",
       "<table border=\"1\" class=\"dataframe\">\n",
       "  <thead>\n",
       "    <tr style=\"text-align: right;\">\n",
       "      <th></th>\n",
       "      <th>id</th>\n",
       "      <th>alias</th>\n",
       "      <th>name</th>\n",
       "      <th>image_url</th>\n",
       "      <th>is_closed</th>\n",
       "      <th>url</th>\n",
       "      <th>review_count</th>\n",
       "      <th>categories</th>\n",
       "      <th>rating</th>\n",
       "      <th>coordinates</th>\n",
       "      <th>transactions</th>\n",
       "      <th>price</th>\n",
       "      <th>location</th>\n",
       "      <th>phone</th>\n",
       "      <th>display_phone</th>\n",
       "      <th>distance</th>\n",
       "    </tr>\n",
       "  </thead>\n",
       "  <tbody>\n",
       "    <tr>\n",
       "      <th>995</th>\n",
       "      <td>PjfnqELVT517Ahw1HHRR4Q</td>\n",
       "      <td>yard-house-new-york</td>\n",
       "      <td>Yard House</td>\n",
       "      <td>https://s3-media1.fl.yelpcdn.com/bphoto/Ce0Y67...</td>\n",
       "      <td>False</td>\n",
       "      <td>https://www.yelp.com/biz/yard-house-new-york?a...</td>\n",
       "      <td>181</td>\n",
       "      <td>[{'alias': 'newamerican', 'title': 'New Americ...</td>\n",
       "      <td>4.0</td>\n",
       "      <td>{'latitude': 40.75509, 'longitude': -73.98727}</td>\n",
       "      <td>[pickup, delivery]</td>\n",
       "      <td>$$</td>\n",
       "      <td>{'address1': '575 7th Ave', 'address2': None, ...</td>\n",
       "      <td>+16464342448</td>\n",
       "      <td>(646) 434-2448</td>\n",
       "      <td>5551.911462</td>\n",
       "    </tr>\n",
       "    <tr>\n",
       "      <th>996</th>\n",
       "      <td>p5TXtpCmgfR77oMT4SLYPg</td>\n",
       "      <td>ganga-asian-bistro-matawan</td>\n",
       "      <td>Ganga Asian Bistro</td>\n",
       "      <td>https://s3-media1.fl.yelpcdn.com/bphoto/UOQfb2...</td>\n",
       "      <td>False</td>\n",
       "      <td>https://www.yelp.com/biz/ganga-asian-bistro-ma...</td>\n",
       "      <td>402</td>\n",
       "      <td>[{'alias': 'asianfusion', 'title': 'Asian Fusi...</td>\n",
       "      <td>4.0</td>\n",
       "      <td>{'latitude': 40.4217656, 'longitude': -74.26468}</td>\n",
       "      <td>[delivery]</td>\n",
       "      <td>$$</td>\n",
       "      <td>{'address1': '432 Rte 34', 'address2': '', 'ad...</td>\n",
       "      <td>+17327658808</td>\n",
       "      <td>(732) 765-8808</td>\n",
       "      <td>38944.594272</td>\n",
       "    </tr>\n",
       "    <tr>\n",
       "      <th>997</th>\n",
       "      <td>_WXa2M3gz2Mi0ys3s88nDw</td>\n",
       "      <td>la-salle-dumpling-room-new-york</td>\n",
       "      <td>La Salle Dumpling Room</td>\n",
       "      <td>https://s3-media4.fl.yelpcdn.com/bphoto/WAil_r...</td>\n",
       "      <td>False</td>\n",
       "      <td>https://www.yelp.com/biz/la-salle-dumpling-roo...</td>\n",
       "      <td>326</td>\n",
       "      <td>[{'alias': 'asianfusion', 'title': 'Asian Fusi...</td>\n",
       "      <td>4.0</td>\n",
       "      <td>{'latitude': 40.81403, 'longitude': -73.95983}</td>\n",
       "      <td>[pickup, delivery]</td>\n",
       "      <td>$$</td>\n",
       "      <td>{'address1': '3141 Broadway', 'address2': None...</td>\n",
       "      <td>+12129610300</td>\n",
       "      <td>(212) 961-0300</td>\n",
       "      <td>12420.960472</td>\n",
       "    </tr>\n",
       "    <tr>\n",
       "      <th>998</th>\n",
       "      <td>YbENoUWAXj_UdGK6UXajfw</td>\n",
       "      <td>hudson-blue-bar-and-view-weehawken</td>\n",
       "      <td>Hudson Blue Bar and View</td>\n",
       "      <td>https://s3-media2.fl.yelpcdn.com/bphoto/RJJAJQ...</td>\n",
       "      <td>False</td>\n",
       "      <td>https://www.yelp.com/biz/hudson-blue-bar-and-v...</td>\n",
       "      <td>23</td>\n",
       "      <td>[{'alias': 'sportsbars', 'title': 'Sports Bars...</td>\n",
       "      <td>4.0</td>\n",
       "      <td>{'latitude': 40.776739823349494, 'longitude': ...</td>\n",
       "      <td>[delivery]</td>\n",
       "      <td>$$</td>\n",
       "      <td>{'address1': '4800 Ave Port Imperial Blvd', 'a...</td>\n",
       "      <td>+12013483200</td>\n",
       "      <td>(201) 348-3200</td>\n",
       "      <td>8048.974132</td>\n",
       "    </tr>\n",
       "    <tr>\n",
       "      <th>999</th>\n",
       "      <td>55jx0bYJ-odyqKKSrDXtPA</td>\n",
       "      <td>mighty-bowl-new-york-6</td>\n",
       "      <td>MIGHTY Bowl</td>\n",
       "      <td>https://s3-media3.fl.yelpcdn.com/bphoto/XN5E5Z...</td>\n",
       "      <td>False</td>\n",
       "      <td>https://www.yelp.com/biz/mighty-bowl-new-york-...</td>\n",
       "      <td>167</td>\n",
       "      <td>[{'alias': 'asianfusion', 'title': 'Asian Fusi...</td>\n",
       "      <td>4.0</td>\n",
       "      <td>{'latitude': 40.75099515490632, 'longitude': -...</td>\n",
       "      <td>[pickup, delivery]</td>\n",
       "      <td>$$</td>\n",
       "      <td>{'address1': '817 2nd Ave', 'address2': None, ...</td>\n",
       "      <td>+16466495603</td>\n",
       "      <td>(646) 649-5603</td>\n",
       "      <td>5413.705173</td>\n",
       "    </tr>\n",
       "  </tbody>\n",
       "</table>\n",
       "</div>"
      ],
      "text/plain": [
       "                         id                               alias  \\\n",
       "995  PjfnqELVT517Ahw1HHRR4Q                 yard-house-new-york   \n",
       "996  p5TXtpCmgfR77oMT4SLYPg          ganga-asian-bistro-matawan   \n",
       "997  _WXa2M3gz2Mi0ys3s88nDw     la-salle-dumpling-room-new-york   \n",
       "998  YbENoUWAXj_UdGK6UXajfw  hudson-blue-bar-and-view-weehawken   \n",
       "999  55jx0bYJ-odyqKKSrDXtPA              mighty-bowl-new-york-6   \n",
       "\n",
       "                         name  \\\n",
       "995                Yard House   \n",
       "996        Ganga Asian Bistro   \n",
       "997    La Salle Dumpling Room   \n",
       "998  Hudson Blue Bar and View   \n",
       "999               MIGHTY Bowl   \n",
       "\n",
       "                                             image_url  is_closed  \\\n",
       "995  https://s3-media1.fl.yelpcdn.com/bphoto/Ce0Y67...      False   \n",
       "996  https://s3-media1.fl.yelpcdn.com/bphoto/UOQfb2...      False   \n",
       "997  https://s3-media4.fl.yelpcdn.com/bphoto/WAil_r...      False   \n",
       "998  https://s3-media2.fl.yelpcdn.com/bphoto/RJJAJQ...      False   \n",
       "999  https://s3-media3.fl.yelpcdn.com/bphoto/XN5E5Z...      False   \n",
       "\n",
       "                                                   url  review_count  \\\n",
       "995  https://www.yelp.com/biz/yard-house-new-york?a...           181   \n",
       "996  https://www.yelp.com/biz/ganga-asian-bistro-ma...           402   \n",
       "997  https://www.yelp.com/biz/la-salle-dumpling-roo...           326   \n",
       "998  https://www.yelp.com/biz/hudson-blue-bar-and-v...            23   \n",
       "999  https://www.yelp.com/biz/mighty-bowl-new-york-...           167   \n",
       "\n",
       "                                            categories  rating  \\\n",
       "995  [{'alias': 'newamerican', 'title': 'New Americ...     4.0   \n",
       "996  [{'alias': 'asianfusion', 'title': 'Asian Fusi...     4.0   \n",
       "997  [{'alias': 'asianfusion', 'title': 'Asian Fusi...     4.0   \n",
       "998  [{'alias': 'sportsbars', 'title': 'Sports Bars...     4.0   \n",
       "999  [{'alias': 'asianfusion', 'title': 'Asian Fusi...     4.0   \n",
       "\n",
       "                                           coordinates        transactions  \\\n",
       "995     {'latitude': 40.75509, 'longitude': -73.98727}  [pickup, delivery]   \n",
       "996   {'latitude': 40.4217656, 'longitude': -74.26468}          [delivery]   \n",
       "997     {'latitude': 40.81403, 'longitude': -73.95983}  [pickup, delivery]   \n",
       "998  {'latitude': 40.776739823349494, 'longitude': ...          [delivery]   \n",
       "999  {'latitude': 40.75099515490632, 'longitude': -...  [pickup, delivery]   \n",
       "\n",
       "    price                                           location         phone  \\\n",
       "995    $$  {'address1': '575 7th Ave', 'address2': None, ...  +16464342448   \n",
       "996    $$  {'address1': '432 Rte 34', 'address2': '', 'ad...  +17327658808   \n",
       "997    $$  {'address1': '3141 Broadway', 'address2': None...  +12129610300   \n",
       "998    $$  {'address1': '4800 Ave Port Imperial Blvd', 'a...  +12013483200   \n",
       "999    $$  {'address1': '817 2nd Ave', 'address2': None, ...  +16466495603   \n",
       "\n",
       "      display_phone      distance  \n",
       "995  (646) 434-2448   5551.911462  \n",
       "996  (732) 765-8808  38944.594272  \n",
       "997  (212) 961-0300  12420.960472  \n",
       "998  (201) 348-3200   8048.974132  \n",
       "999  (646) 649-5603   5413.705173  "
      ]
     },
     "metadata": {},
     "output_type": "display_data"
    }
   ],
   "source": [
    "# load final results\n",
    "final_df = pd.read_json(JSON_FILE)\n",
    "display(final_df.head(), final_df.tail())"
   ]
  },
  {
   "cell_type": "code",
   "execution_count": 21,
   "id": "4c87a0f9-78c3-425d-8a7f-6bd5db09255e",
   "metadata": {},
   "outputs": [
    {
     "data": {
      "text/plain": [
       "0"
      ]
     },
     "execution_count": 21,
     "metadata": {},
     "output_type": "execute_result"
    }
   ],
   "source": [
    "# check for duplicate ID's \n",
    "final_df.duplicated(subset='id').sum()"
   ]
  },
  {
   "cell_type": "markdown",
   "id": "813a4e3c-ec19-4351-a67e-459ec5330902",
   "metadata": {},
   "source": [
    "No duplicates to delete in file."
   ]
  },
  {
   "cell_type": "code",
   "execution_count": 22,
   "id": "911b8233-cccb-4352-b5f0-20c4c421a709",
   "metadata": {},
   "outputs": [],
   "source": [
    "# save the final results to a compressed csv\n",
    "final_df.to_csv('Data/final_results_NY_Thai.csv.gz', compression='gzip',index=False)"
   ]
  }
 ],
 "metadata": {
  "kernelspec": {
   "display_name": "Python 3 (ipykernel)",
   "language": "python",
   "name": "python3"
  },
  "language_info": {
   "codemirror_mode": {
    "name": "ipython",
    "version": 3
   },
   "file_extension": ".py",
   "mimetype": "text/x-python",
   "name": "python",
   "nbconvert_exporter": "python",
   "pygments_lexer": "ipython3",
   "version": "3.10.10"
  },
  "widgets": {
   "application/vnd.jupyter.widget-state+json": {
    "state": {
     "0450226697954502b329b3aaf1ed2f40": {
      "model_module": "@jupyter-widgets/controls",
      "model_module_version": "2.0.0",
      "model_name": "FloatProgressModel",
      "state": {
       "bar_style": "success",
       "layout": "IPY_MODEL_d95f1636b3a34a61adb88526825c427e",
       "max": 145,
       "style": "IPY_MODEL_983010114ca742129208fb5876f3de94",
       "value": 145
      }
     },
     "13d2dc23452c498a9d14164c9c7961a3": {
      "model_module": "@jupyter-widgets/base",
      "model_module_version": "2.0.0",
      "model_name": "LayoutModel",
      "state": {}
     },
     "29ba20a4d71843f5944594a1610cfee8": {
      "model_module": "@jupyter-widgets/controls",
      "model_module_version": "2.0.0",
      "model_name": "HTMLModel",
      "state": {
       "layout": "IPY_MODEL_8a079cf2638642858d0b77117ed49710",
       "style": "IPY_MODEL_8a719448a0784bf68a48931245568a02",
       "value": " 49/145 [01:15&lt;03:22,  2.11s/it]"
      }
     },
     "31fccee9d3214ee2bb70b9733eb2f34c": {
      "model_module": "@jupyter-widgets/base",
      "model_module_version": "2.0.0",
      "model_name": "LayoutModel",
      "state": {}
     },
     "3b1fb4cdc99d49b9ae0c92d3ff68263f": {
      "model_module": "@jupyter-widgets/base",
      "model_module_version": "2.0.0",
      "model_name": "LayoutModel",
      "state": {}
     },
     "3c8128ef6d974a5d8c0497a89c26032f": {
      "model_module": "@jupyter-widgets/controls",
      "model_module_version": "2.0.0",
      "model_name": "HBoxModel",
      "state": {
       "children": [
        "IPY_MODEL_b05975ca880c45aa8b4eab4d7e40de41",
        "IPY_MODEL_bbbe250ee6bd4812ba6716f34fd4093a",
        "IPY_MODEL_bd6ea3d1ccbf407fa162b9d15b23bb46"
       ],
       "layout": "IPY_MODEL_4882e726ef28428182ccc582d9db7160"
      }
     },
     "487c1822198940a28062563c1c263303": {
      "model_module": "@jupyter-widgets/controls",
      "model_module_version": "2.0.0",
      "model_name": "HTMLStyleModel",
      "state": {
       "description_width": "",
       "font_size": null,
       "text_color": null
      }
     },
     "4882e726ef28428182ccc582d9db7160": {
      "model_module": "@jupyter-widgets/base",
      "model_module_version": "2.0.0",
      "model_name": "LayoutModel",
      "state": {}
     },
     "54815513da9545d6bca43f284d97fe68": {
      "model_module": "@jupyter-widgets/controls",
      "model_module_version": "2.0.0",
      "model_name": "FloatProgressModel",
      "state": {
       "bar_style": "danger",
       "layout": "IPY_MODEL_3b1fb4cdc99d49b9ae0c92d3ff68263f",
       "max": 145,
       "style": "IPY_MODEL_dee08baba02f4103aeaa9bc52b0382d3",
       "value": 49
      }
     },
     "57e94c3568b14ad1a176340cebb4f29b": {
      "model_module": "@jupyter-widgets/controls",
      "model_module_version": "2.0.0",
      "model_name": "HTMLStyleModel",
      "state": {
       "description_width": "",
       "font_size": null,
       "text_color": null
      }
     },
     "5d7ad363612a46bca3cab9301eace1cd": {
      "model_module": "@jupyter-widgets/controls",
      "model_module_version": "2.0.0",
      "model_name": "HTMLModel",
      "state": {
       "layout": "IPY_MODEL_13d2dc23452c498a9d14164c9c7961a3",
       "style": "IPY_MODEL_487c1822198940a28062563c1c263303",
       "value": " 34%"
      }
     },
     "65a805a6461f42ae899794bb0320e489": {
      "model_module": "@jupyter-widgets/controls",
      "model_module_version": "2.0.0",
      "model_name": "HBoxModel",
      "state": {
       "children": [
        "IPY_MODEL_5d7ad363612a46bca3cab9301eace1cd",
        "IPY_MODEL_54815513da9545d6bca43f284d97fe68",
        "IPY_MODEL_29ba20a4d71843f5944594a1610cfee8"
       ],
       "layout": "IPY_MODEL_8036ce43d1784021a2cfc49c1f5ad225"
      }
     },
     "769b1b76c7984ad6aaff464154b12040": {
      "model_module": "@jupyter-widgets/base",
      "model_module_version": "2.0.0",
      "model_name": "LayoutModel",
      "state": {}
     },
     "8036ce43d1784021a2cfc49c1f5ad225": {
      "model_module": "@jupyter-widgets/base",
      "model_module_version": "2.0.0",
      "model_name": "LayoutModel",
      "state": {}
     },
     "8a079cf2638642858d0b77117ed49710": {
      "model_module": "@jupyter-widgets/base",
      "model_module_version": "2.0.0",
      "model_name": "LayoutModel",
      "state": {}
     },
     "8a719448a0784bf68a48931245568a02": {
      "model_module": "@jupyter-widgets/controls",
      "model_module_version": "2.0.0",
      "model_name": "HTMLStyleModel",
      "state": {
       "description_width": "",
       "font_size": null,
       "text_color": null
      }
     },
     "8ed942758ff848099846305524f8a474": {
      "model_module": "@jupyter-widgets/controls",
      "model_module_version": "2.0.0",
      "model_name": "HTMLStyleModel",
      "state": {
       "description_width": "",
       "font_size": null,
       "text_color": null
      }
     },
     "9001c476f2f341d09d053bea047e82f2": {
      "model_module": "@jupyter-widgets/controls",
      "model_module_version": "2.0.0",
      "model_name": "HBoxModel",
      "state": {
       "children": [
        "IPY_MODEL_c3a12089b4ef4e2d9f10e22f98e5cccd",
        "IPY_MODEL_0450226697954502b329b3aaf1ed2f40",
        "IPY_MODEL_cc03808ad23c490486ac652bce9cbfb0"
       ],
       "layout": "IPY_MODEL_e87b8f24616c4d898ea04dea7b30218a"
      }
     },
     "983010114ca742129208fb5876f3de94": {
      "model_module": "@jupyter-widgets/controls",
      "model_module_version": "2.0.0",
      "model_name": "ProgressStyleModel",
      "state": {
       "description_width": ""
      }
     },
     "a154257986964ddd9d37018783a839ff": {
      "model_module": "@jupyter-widgets/base",
      "model_module_version": "2.0.0",
      "model_name": "LayoutModel",
      "state": {}
     },
     "a4c7bc99fdd547609bf7c9c5702715f9": {
      "model_module": "@jupyter-widgets/base",
      "model_module_version": "2.0.0",
      "model_name": "LayoutModel",
      "state": {}
     },
     "a5d9cfadc864495db7e7013715ae06c8": {
      "model_module": "@jupyter-widgets/controls",
      "model_module_version": "2.0.0",
      "model_name": "ProgressStyleModel",
      "state": {
       "description_width": ""
      }
     },
     "a607da57cb4f4116880d3ce0cd4e8337": {
      "model_module": "@jupyter-widgets/controls",
      "model_module_version": "2.0.0",
      "model_name": "HTMLStyleModel",
      "state": {
       "description_width": "",
       "font_size": null,
       "text_color": null
      }
     },
     "a6d881fc6c9740d2829a47b9d407f807": {
      "model_module": "@jupyter-widgets/base",
      "model_module_version": "2.0.0",
      "model_name": "LayoutModel",
      "state": {}
     },
     "b05975ca880c45aa8b4eab4d7e40de41": {
      "model_module": "@jupyter-widgets/controls",
      "model_module_version": "2.0.0",
      "model_name": "HTMLModel",
      "state": {
       "layout": "IPY_MODEL_a6d881fc6c9740d2829a47b9d407f807",
       "style": "IPY_MODEL_f25997a0493f45ad8ca495569f7144f3",
       "value": " 34%"
      }
     },
     "bbbe250ee6bd4812ba6716f34fd4093a": {
      "model_module": "@jupyter-widgets/controls",
      "model_module_version": "2.0.0",
      "model_name": "FloatProgressModel",
      "state": {
       "bar_style": "danger",
       "layout": "IPY_MODEL_a4c7bc99fdd547609bf7c9c5702715f9",
       "max": 145,
       "style": "IPY_MODEL_a5d9cfadc864495db7e7013715ae06c8",
       "value": 50
      }
     },
     "bd6ea3d1ccbf407fa162b9d15b23bb46": {
      "model_module": "@jupyter-widgets/controls",
      "model_module_version": "2.0.0",
      "model_name": "HTMLModel",
      "state": {
       "layout": "IPY_MODEL_769b1b76c7984ad6aaff464154b12040",
       "style": "IPY_MODEL_a607da57cb4f4116880d3ce0cd4e8337",
       "value": " 50/145 [01:10&lt;02:55,  1.85s/it]"
      }
     },
     "c3a12089b4ef4e2d9f10e22f98e5cccd": {
      "model_module": "@jupyter-widgets/controls",
      "model_module_version": "2.0.0",
      "model_name": "HTMLModel",
      "state": {
       "layout": "IPY_MODEL_31fccee9d3214ee2bb70b9733eb2f34c",
       "style": "IPY_MODEL_8ed942758ff848099846305524f8a474",
       "value": "100%"
      }
     },
     "cc03808ad23c490486ac652bce9cbfb0": {
      "model_module": "@jupyter-widgets/controls",
      "model_module_version": "2.0.0",
      "model_name": "HTMLModel",
      "state": {
       "layout": "IPY_MODEL_a154257986964ddd9d37018783a839ff",
       "style": "IPY_MODEL_57e94c3568b14ad1a176340cebb4f29b",
       "value": " 145/145 [00:30&lt;00:00,  4.79it/s]"
      }
     },
     "d95f1636b3a34a61adb88526825c427e": {
      "model_module": "@jupyter-widgets/base",
      "model_module_version": "2.0.0",
      "model_name": "LayoutModel",
      "state": {}
     },
     "dee08baba02f4103aeaa9bc52b0382d3": {
      "model_module": "@jupyter-widgets/controls",
      "model_module_version": "2.0.0",
      "model_name": "ProgressStyleModel",
      "state": {
       "description_width": ""
      }
     },
     "e87b8f24616c4d898ea04dea7b30218a": {
      "model_module": "@jupyter-widgets/base",
      "model_module_version": "2.0.0",
      "model_name": "LayoutModel",
      "state": {}
     },
     "f25997a0493f45ad8ca495569f7144f3": {
      "model_module": "@jupyter-widgets/controls",
      "model_module_version": "2.0.0",
      "model_name": "HTMLStyleModel",
      "state": {
       "description_width": "",
       "font_size": null,
       "text_color": null
      }
     }
    },
    "version_major": 2,
    "version_minor": 0
   }
  }
 },
 "nbformat": 4,
 "nbformat_minor": 5
}
