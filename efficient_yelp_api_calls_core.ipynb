{
 "cells": [
  {
   "cell_type": "code",
   "execution_count": 1,
   "id": "92d2449d-dffd-4eba-ac6e-ab4088a723d7",
   "metadata": {},
   "outputs": [],
   "source": [
    "# Standard Imports\n",
    "import numpy as np\n",
    "import pandas as pd\n",
    "import matplotlib.pyplot as plt\n",
    "import seaborn as sns\n",
    "# Additional Imports\n",
    "import os, json, math, time\n",
    "from yelpapi import YelpAPI\n",
    "from tqdm.notebook import tqdm_notebook"
   ]
  },
  {
   "cell_type": "code",
   "execution_count": 2,
   "id": "5f067915-de44-4ced-a3d7-e7851a43f106",
   "metadata": {},
   "outputs": [],
   "source": [
    "# Load API Credentials\n",
    "with open('/Users/.../..../yelp_api.json') as f:  \n",
    "    login = json.load(f)\n",
    "# Instantiate YelpAPI Variable\n",
    "yelp_api = YelpAPI(login['api-key'], timeout_s=5.0)"
   ]
  },
  {
   "cell_type": "code",
   "execution_count": 3,
   "id": "32b7ce3f-1e3b-48ff-94ac-8e24a6039e37",
   "metadata": {},
   "outputs": [],
   "source": [
    "# set our API call parameters \n",
    "LOCATION = 'NY,NY'\n",
    "TERM = 'Thai'"
   ]
  },
  {
   "cell_type": "code",
   "execution_count": 4,
   "id": "60450420-c357-411f-8fc9-ad0e0ec884cc",
   "metadata": {},
   "outputs": [
    {
     "data": {
      "text/plain": [
       "'Data/results_in_progress_ny_thai.json'"
      ]
     },
     "execution_count": 4,
     "metadata": {},
     "output_type": "execute_result"
    }
   ],
   "source": [
    "# Specifying JSON_FILE filename (can include a folder)\n",
    "# include the search terms in the filename\n",
    "JSON_FILE = \"Data/results_in_progress_ny_thai.json\"\n",
    "JSON_FILE"
   ]
  },
  {
   "cell_type": "code",
   "execution_count": 5,
   "id": "08b9ff3f-5876-4eb8-9c1e-ece4efe93068",
   "metadata": {},
   "outputs": [
    {
     "name": "stdout",
     "output_type": "stream",
     "text": [
      "[i] Data/results_in_progress_ny_thai.json not found. Saving empty list to file.\n"
     ]
    }
   ],
   "source": [
    "## Check if JSON_FILE exists\n",
    "file_exists = os.path.isfile(JSON_FILE)\n",
    "## If it does not exist: \n",
    "if file_exists == False:\n",
    "    \n",
    "    ## CREATE ANY NEEDED FOLDERS\n",
    "    # Get the Folder Name only\n",
    "    folder = os.path.dirname(JSON_FILE)\n",
    "    ## If JSON_FILE included a folder:\n",
    "    if len(folder)>0:\n",
    "        # create the folder\n",
    "        os.makedirs(folder,exist_ok=True)\n",
    "        \n",
    "        \n",
    "    ## INFORM USER AND SAVE EMPTY LIST\n",
    "    print(f'[i] {JSON_FILE} not found. Saving empty list to file.')\n",
    "    \n",
    "    \n",
    "    # save an empty list\n",
    "    with open(JSON_FILE,'w') as f:\n",
    "        json.dump([],f)  \n",
    "# If it exists, inform user\n",
    "else:\n",
    "    print(f\"[i] {JSON_FILE} already exists.\")"
   ]
  },
  {
   "cell_type": "code",
   "execution_count": 6,
   "id": "623b9f3d-4e38-4533-95d9-ee69627de6c9",
   "metadata": {},
   "outputs": [
    {
     "name": "stdout",
     "output_type": "stream",
     "text": [
      "- 0 previous results found.\n"
     ]
    }
   ],
   "source": [
    "## Load previous results and use len of results for offset\n",
    "with open(JSON_FILE,'r') as f:\n",
    "    previous_results = json.load(f)\n",
    "    \n",
    "## set offset based on previous results\n",
    "n_results = len(previous_results)\n",
    "print(f'- {n_results} previous results found.')"
   ]
  },
  {
   "cell_type": "code",
   "execution_count": 7,
   "id": "09c191fd-7d26-4569-a72d-70c0e0091482",
   "metadata": {},
   "outputs": [
    {
     "data": {
      "text/plain": [
       "dict_keys(['businesses', 'total', 'region'])"
      ]
     },
     "execution_count": 7,
     "metadata": {},
     "output_type": "execute_result"
    }
   ],
   "source": [
    "# use our yelp_api variable's search_query method to perform our API call\n",
    "results = yelp_api.search_query(location=LOCATION,\n",
    "                                term=TERM,\n",
    "                               offset=n_results)\n",
    "results.keys()"
   ]
  },
  {
   "cell_type": "code",
   "execution_count": 8,
   "id": "f6655470-0bd0-4084-a020-5a5a4abcf5ee",
   "metadata": {},
   "outputs": [
    {
     "data": {
      "text/plain": [
       "2900"
      ]
     },
     "execution_count": 8,
     "metadata": {},
     "output_type": "execute_result"
    }
   ],
   "source": [
    "## How many results total?\n",
    "total_results = results['total']\n",
    "total_results"
   ]
  },
  {
   "cell_type": "code",
   "execution_count": 9,
   "id": "1ad18926-92b0-40db-a0d5-9fbb8e7127aa",
   "metadata": {},
   "outputs": [
    {
     "data": {
      "text/plain": [
       "20"
      ]
     },
     "execution_count": 9,
     "metadata": {},
     "output_type": "execute_result"
    }
   ],
   "source": [
    "## How many did we get the details for?\n",
    "results_per_page = len(results['businesses'])\n",
    "results_per_page"
   ]
  },
  {
   "cell_type": "code",
   "execution_count": 10,
   "id": "ebb37131-3cb2-40fc-805d-555bcda8f3da",
   "metadata": {},
   "outputs": [
    {
     "data": {
      "text/plain": [
       "145"
      ]
     },
     "execution_count": 10,
     "metadata": {},
     "output_type": "execute_result"
    }
   ],
   "source": [
    "# Use math.ceil to round up for the total number of pages of results.\n",
    "n_pages = math.ceil((results['total']-n_results)/ results_per_page)\n",
    "n_pages"
   ]
  },
  {
   "cell_type": "code",
   "execution_count": 11,
   "id": "bf442856-1a76-4d57-b79c-3824a4b2cdd6",
   "metadata": {},
   "outputs": [],
   "source": [
    "# join new results with old list with extend and save to file\n",
    "previous_results.extend(results['businesses'])  \n",
    "with open(JSON_FILE,'w') as f:\n",
    "     json.dump(previous_results,f)"
   ]
  },
  {
   "cell_type": "code",
   "execution_count": 12,
   "id": "6140831c-0dd1-4fc7-96c3-09c6c366b861",
   "metadata": {},
   "outputs": [
    {
     "data": {
      "application/vnd.jupyter.widget-view+json": {
       "model_id": "2761ede610b24d38b25cc1633616947f",
       "version_major": 2,
       "version_minor": 0
      },
      "text/plain": [
       "  0%|          | 0/145 [00:00<?, ?it/s]"
      ]
     },
     "metadata": {},
     "output_type": "display_data"
    }
   ],
   "source": [
    "for i in tqdm_notebook(range(n_pages)):\n",
    "    # adds 200 ms pause\n",
    "    time.sleep(.2) "
   ]
  },
  {
   "cell_type": "code",
   "execution_count": 13,
   "id": "87bb9f7f-8540-465a-ba82-cbe25642c535",
   "metadata": {},
   "outputs": [],
   "source": [
    "def create_json_file(JSON_FILE,  delete_if_exists=False):\n",
    "    \n",
    "    ## Check if JSON_FILE exists\n",
    "    file_exists = os.path.isfile(JSON_FILE)\n",
    "    \n",
    "    ## If it DOES exist:\n",
    "    if file_exists == True:\n",
    "        \n",
    "        ## Check if user wants to delete if exists\n",
    "        if delete_if_exists==True:\n",
    "            \n",
    "            print(f\"[!] {JSON_FILE} already exists. Deleting previous file...\")\n",
    "            ## delete file and confirm it no longer exits.\n",
    "            os.remove(JSON_FILE)\n",
    "            ## Recursive call to function after old file deleted\n",
    "            create_json_file(JSON_FILE,delete_if_exists=False)\n",
    "        else:\n",
    "            print(f\"[i] {JSON_FILE} already exists.\")            \n",
    "            \n",
    "            \n",
    "    ## If it does NOT exist:\n",
    "    else:\n",
    "        \n",
    "        ## INFORM USER AND SAVE EMPTY LIST\n",
    "        print(f\"[i] {JSON_FILE} not found. Saving empty list to new file.\")\n",
    "        \n",
    "        ## CREATE ANY NEEDED FOLDERS\n",
    "        # Get the Folder Name only\n",
    "        folder = os.path.dirname(JSON_FILE)\n",
    "        \n",
    "        ## If JSON_FILE included a folder:\n",
    "        if len(folder)>0:\n",
    "            # create the folder\n",
    "            os.makedirs(folder,exist_ok=True)\n",
    "        ## Save empty list to start the json file\n",
    "        with open(JSON_FILE,'w') as f:\n",
    "            json.dump([],f)  "
   ]
  },
  {
   "cell_type": "code",
   "execution_count": 14,
   "id": "f273ed9b-7efa-47cf-92ed-10b2a29335df",
   "metadata": {},
   "outputs": [
    {
     "name": "stdout",
     "output_type": "stream",
     "text": [
      "[!] Data/results_in_progress_ny_thai.json already exists. Deleting previous file...\n",
      "[i] Data/results_in_progress_ny_thai.json not found. Saving empty list to new file.\n",
      "- 0 previous results found.\n"
     ]
    },
    {
     "data": {
      "text/plain": [
       "145"
      ]
     },
     "execution_count": 14,
     "metadata": {},
     "output_type": "execute_result"
    }
   ],
   "source": [
    "## Create a new empty json file (exist the previous if it exists)\n",
    "create_json_file(JSON_FILE, delete_if_exists=True)\n",
    "## Load previous results and use len of results for offset\n",
    "with open(JSON_FILE,'r') as f:\n",
    "    previous_results = json.load(f)\n",
    "    \n",
    "## set offset based on previous results\n",
    "n_results = len(previous_results)\n",
    "print(f'- {n_results} previous results found.')\n",
    "# use our yelp_api variable's search_query method to perform our API call\n",
    "results = yelp_api.search_query(location=LOCATION,\n",
    "                                term=TERM,\n",
    "                               offset=n_results)\n",
    "## How many results total?\n",
    "total_results = results['total']\n",
    "## How many did we get the details for?\n",
    "results_per_page = len(results['businesses'])\n",
    "# Use math.ceil to round up for the total number of pages of results.\n",
    "n_pages = math.ceil((results['total']-n_results)/ results_per_page)\n",
    "n_pages"
   ]
  },
  {
   "cell_type": "code",
   "execution_count": 15,
   "id": "35f92151-fc35-445f-b5f7-e9ef70c6b11c",
   "metadata": {},
   "outputs": [
    {
     "data": {
      "application/vnd.jupyter.widget-view+json": {
       "model_id": "12e8b902b4dc476b97839195abd15d52",
       "version_major": 2,
       "version_minor": 0
      },
      "text/plain": [
       "  0%|          | 0/145 [00:00<?, ?it/s]"
      ]
     },
     "metadata": {},
     "output_type": "display_data"
    },
    {
     "name": "stdout",
     "output_type": "stream",
     "text": [
      "Exceeded 1000 api calls. Stopping loop.\n"
     ]
    }
   ],
   "source": [
    "for i in tqdm_notebook( range(1,n_pages+1)):\n",
    "    \n",
    "    ## Read in results in progress file and check the length\n",
    "    with open(JSON_FILE, 'r') as f:\n",
    "        previous_results = json.load(f)\n",
    "    ## save number of results for to use as offset\n",
    "    n_results = len(previous_results)\n",
    "    \n",
    "    if (n_results + results_per_page) > 1000:\n",
    "        print('Exceeded 1000 api calls. Stopping loop.')\n",
    "        break\n",
    "    \n",
    "    ## use n_results as the OFFSET \n",
    "    results = yelp_api.search_query(location=LOCATION,\n",
    "                                    term=TERM, \n",
    "                                    offset=n_results)\n",
    "    \n",
    "    \n",
    "    \n",
    "    ## append new results and save to file\n",
    "    previous_results.extend(results['businesses'])\n",
    "    \n",
    "    # display(previous_results)\n",
    "    with open(JSON_FILE,'w') as f:\n",
    "        json.dump(previous_results,f)\n",
    "    \n",
    "    time.sleep(.2)"
   ]
  },
  {
   "cell_type": "code",
   "execution_count": 16,
   "id": "23eee9bd-53dd-42b6-aae3-6e8b8ca7d88d",
   "metadata": {},
   "outputs": [
    {
     "data": {
      "text/html": [
       "<div>\n",
       "<style scoped>\n",
       "    .dataframe tbody tr th:only-of-type {\n",
       "        vertical-align: middle;\n",
       "    }\n",
       "\n",
       "    .dataframe tbody tr th {\n",
       "        vertical-align: top;\n",
       "    }\n",
       "\n",
       "    .dataframe thead th {\n",
       "        text-align: right;\n",
       "    }\n",
       "</style>\n",
       "<table border=\"1\" class=\"dataframe\">\n",
       "  <thead>\n",
       "    <tr style=\"text-align: right;\">\n",
       "      <th></th>\n",
       "      <th>id</th>\n",
       "      <th>alias</th>\n",
       "      <th>name</th>\n",
       "      <th>image_url</th>\n",
       "      <th>is_closed</th>\n",
       "      <th>url</th>\n",
       "      <th>review_count</th>\n",
       "      <th>categories</th>\n",
       "      <th>rating</th>\n",
       "      <th>coordinates</th>\n",
       "      <th>transactions</th>\n",
       "      <th>price</th>\n",
       "      <th>location</th>\n",
       "      <th>phone</th>\n",
       "      <th>display_phone</th>\n",
       "      <th>distance</th>\n",
       "    </tr>\n",
       "  </thead>\n",
       "  <tbody>\n",
       "    <tr>\n",
       "      <th>0</th>\n",
       "      <td>jjJc_CrkB2HodEinB6cWww</td>\n",
       "      <td>lovemama-new-york</td>\n",
       "      <td>LoveMama</td>\n",
       "      <td>https://s3-media1.fl.yelpcdn.com/bphoto/bLlFKT...</td>\n",
       "      <td>False</td>\n",
       "      <td>https://www.yelp.com/biz/lovemama-new-york?adj...</td>\n",
       "      <td>6576</td>\n",
       "      <td>[{'alias': 'thai', 'title': 'Thai'}, {'alias':...</td>\n",
       "      <td>4.5</td>\n",
       "      <td>{'latitude': 40.730408722512074, 'longitude': ...</td>\n",
       "      <td>[pickup, delivery, restaurant_reservation]</td>\n",
       "      <td>$$</td>\n",
       "      <td>{'address1': '174 2nd Ave', 'address2': '', 'a...</td>\n",
       "      <td>+12122545370</td>\n",
       "      <td>(212) 254-5370</td>\n",
       "      <td>2859.902795</td>\n",
       "    </tr>\n",
       "    <tr>\n",
       "      <th>1</th>\n",
       "      <td>-XYp6w50XbZfS90YddS5ew</td>\n",
       "      <td>soothr-new-york-2</td>\n",
       "      <td>Soothr</td>\n",
       "      <td>https://s3-media2.fl.yelpcdn.com/bphoto/HxjVE7...</td>\n",
       "      <td>False</td>\n",
       "      <td>https://www.yelp.com/biz/soothr-new-york-2?adj...</td>\n",
       "      <td>1157</td>\n",
       "      <td>[{'alias': 'thai', 'title': 'Thai'}, {'alias':...</td>\n",
       "      <td>4.5</td>\n",
       "      <td>{'latitude': 40.732259, 'longitude': -73.987363}</td>\n",
       "      <td>[pickup, delivery]</td>\n",
       "      <td>$$</td>\n",
       "      <td>{'address1': '204 E 13th St', 'address2': '', ...</td>\n",
       "      <td>+12128449789</td>\n",
       "      <td>(212) 844-9789</td>\n",
       "      <td>3043.263183</td>\n",
       "    </tr>\n",
       "    <tr>\n",
       "      <th>2</th>\n",
       "      <td>B3_K2kUVbYOU0VaLcj_LTw</td>\n",
       "      <td>thai-villa-new-york-2</td>\n",
       "      <td>Thai Villa</td>\n",
       "      <td>https://s3-media2.fl.yelpcdn.com/bphoto/PYopFn...</td>\n",
       "      <td>False</td>\n",
       "      <td>https://www.yelp.com/biz/thai-villa-new-york-2...</td>\n",
       "      <td>4845</td>\n",
       "      <td>[{'alias': 'thai', 'title': 'Thai'}]</td>\n",
       "      <td>4.5</td>\n",
       "      <td>{'latitude': 40.73902, 'longitude': -73.99065}</td>\n",
       "      <td>[pickup, delivery]</td>\n",
       "      <td>$$</td>\n",
       "      <td>{'address1': '5 E 19th St', 'address2': 'G Flo...</td>\n",
       "      <td>+12128029999</td>\n",
       "      <td>(212) 802-9999</td>\n",
       "      <td>3744.570400</td>\n",
       "    </tr>\n",
       "    <tr>\n",
       "      <th>3</th>\n",
       "      <td>0IFDnYf3bhqxJR6hVrG7Gw</td>\n",
       "      <td>top-thai-vintage-new-york-3</td>\n",
       "      <td>Top Thai Vintage</td>\n",
       "      <td>https://s3-media3.fl.yelpcdn.com/bphoto/-ZoEVV...</td>\n",
       "      <td>False</td>\n",
       "      <td>https://www.yelp.com/biz/top-thai-vintage-new-...</td>\n",
       "      <td>1131</td>\n",
       "      <td>[{'alias': 'thai', 'title': 'Thai'}, {'alias':...</td>\n",
       "      <td>4.5</td>\n",
       "      <td>{'latitude': 40.729907419973344, 'longitude': ...</td>\n",
       "      <td>[pickup, delivery, restaurant_reservation]</td>\n",
       "      <td>$$$</td>\n",
       "      <td>{'address1': '55 Carmine St', 'address2': None...</td>\n",
       "      <td>+16466092272</td>\n",
       "      <td>(646) 609-2272</td>\n",
       "      <td>2845.705425</td>\n",
       "    </tr>\n",
       "    <tr>\n",
       "      <th>4</th>\n",
       "      <td>egDEaHpDumYHzRUZ8JBU-w</td>\n",
       "      <td>pranakhon-thai-restaurant-new-york-2</td>\n",
       "      <td>Pranakhon Thai Restaurant</td>\n",
       "      <td>https://s3-media1.fl.yelpcdn.com/bphoto/XB_CUH...</td>\n",
       "      <td>False</td>\n",
       "      <td>https://www.yelp.com/biz/pranakhon-thai-restau...</td>\n",
       "      <td>311</td>\n",
       "      <td>[{'alias': 'thai', 'title': 'Thai'}, {'alias':...</td>\n",
       "      <td>4.5</td>\n",
       "      <td>{'latitude': 40.73369, 'longitude': -73.99316}</td>\n",
       "      <td>[pickup, delivery]</td>\n",
       "      <td>NaN</td>\n",
       "      <td>{'address1': '88 University Pl', 'address2': N...</td>\n",
       "      <td>+12127866789</td>\n",
       "      <td>(212) 786-6789</td>\n",
       "      <td>3144.403563</td>\n",
       "    </tr>\n",
       "  </tbody>\n",
       "</table>\n",
       "</div>"
      ],
      "text/plain": [
       "                       id                                 alias  \\\n",
       "0  jjJc_CrkB2HodEinB6cWww                     lovemama-new-york   \n",
       "1  -XYp6w50XbZfS90YddS5ew                     soothr-new-york-2   \n",
       "2  B3_K2kUVbYOU0VaLcj_LTw                 thai-villa-new-york-2   \n",
       "3  0IFDnYf3bhqxJR6hVrG7Gw           top-thai-vintage-new-york-3   \n",
       "4  egDEaHpDumYHzRUZ8JBU-w  pranakhon-thai-restaurant-new-york-2   \n",
       "\n",
       "                        name  \\\n",
       "0                   LoveMama   \n",
       "1                     Soothr   \n",
       "2                 Thai Villa   \n",
       "3           Top Thai Vintage   \n",
       "4  Pranakhon Thai Restaurant   \n",
       "\n",
       "                                           image_url  is_closed  \\\n",
       "0  https://s3-media1.fl.yelpcdn.com/bphoto/bLlFKT...      False   \n",
       "1  https://s3-media2.fl.yelpcdn.com/bphoto/HxjVE7...      False   \n",
       "2  https://s3-media2.fl.yelpcdn.com/bphoto/PYopFn...      False   \n",
       "3  https://s3-media3.fl.yelpcdn.com/bphoto/-ZoEVV...      False   \n",
       "4  https://s3-media1.fl.yelpcdn.com/bphoto/XB_CUH...      False   \n",
       "\n",
       "                                                 url  review_count  \\\n",
       "0  https://www.yelp.com/biz/lovemama-new-york?adj...          6576   \n",
       "1  https://www.yelp.com/biz/soothr-new-york-2?adj...          1157   \n",
       "2  https://www.yelp.com/biz/thai-villa-new-york-2...          4845   \n",
       "3  https://www.yelp.com/biz/top-thai-vintage-new-...          1131   \n",
       "4  https://www.yelp.com/biz/pranakhon-thai-restau...           311   \n",
       "\n",
       "                                          categories  rating  \\\n",
       "0  [{'alias': 'thai', 'title': 'Thai'}, {'alias':...     4.5   \n",
       "1  [{'alias': 'thai', 'title': 'Thai'}, {'alias':...     4.5   \n",
       "2               [{'alias': 'thai', 'title': 'Thai'}]     4.5   \n",
       "3  [{'alias': 'thai', 'title': 'Thai'}, {'alias':...     4.5   \n",
       "4  [{'alias': 'thai', 'title': 'Thai'}, {'alias':...     4.5   \n",
       "\n",
       "                                         coordinates  \\\n",
       "0  {'latitude': 40.730408722512074, 'longitude': ...   \n",
       "1   {'latitude': 40.732259, 'longitude': -73.987363}   \n",
       "2     {'latitude': 40.73902, 'longitude': -73.99065}   \n",
       "3  {'latitude': 40.729907419973344, 'longitude': ...   \n",
       "4     {'latitude': 40.73369, 'longitude': -73.99316}   \n",
       "\n",
       "                                 transactions price  \\\n",
       "0  [pickup, delivery, restaurant_reservation]    $$   \n",
       "1                          [pickup, delivery]    $$   \n",
       "2                          [pickup, delivery]    $$   \n",
       "3  [pickup, delivery, restaurant_reservation]   $$$   \n",
       "4                          [pickup, delivery]   NaN   \n",
       "\n",
       "                                            location         phone  \\\n",
       "0  {'address1': '174 2nd Ave', 'address2': '', 'a...  +12122545370   \n",
       "1  {'address1': '204 E 13th St', 'address2': '', ...  +12128449789   \n",
       "2  {'address1': '5 E 19th St', 'address2': 'G Flo...  +12128029999   \n",
       "3  {'address1': '55 Carmine St', 'address2': None...  +16466092272   \n",
       "4  {'address1': '88 University Pl', 'address2': N...  +12127866789   \n",
       "\n",
       "    display_phone     distance  \n",
       "0  (212) 254-5370  2859.902795  \n",
       "1  (212) 844-9789  3043.263183  \n",
       "2  (212) 802-9999  3744.570400  \n",
       "3  (646) 609-2272  2845.705425  \n",
       "4  (212) 786-6789  3144.403563  "
      ]
     },
     "metadata": {},
     "output_type": "display_data"
    },
    {
     "data": {
      "text/html": [
       "<div>\n",
       "<style scoped>\n",
       "    .dataframe tbody tr th:only-of-type {\n",
       "        vertical-align: middle;\n",
       "    }\n",
       "\n",
       "    .dataframe tbody tr th {\n",
       "        vertical-align: top;\n",
       "    }\n",
       "\n",
       "    .dataframe thead th {\n",
       "        text-align: right;\n",
       "    }\n",
       "</style>\n",
       "<table border=\"1\" class=\"dataframe\">\n",
       "  <thead>\n",
       "    <tr style=\"text-align: right;\">\n",
       "      <th></th>\n",
       "      <th>id</th>\n",
       "      <th>alias</th>\n",
       "      <th>name</th>\n",
       "      <th>image_url</th>\n",
       "      <th>is_closed</th>\n",
       "      <th>url</th>\n",
       "      <th>review_count</th>\n",
       "      <th>categories</th>\n",
       "      <th>rating</th>\n",
       "      <th>coordinates</th>\n",
       "      <th>transactions</th>\n",
       "      <th>price</th>\n",
       "      <th>location</th>\n",
       "      <th>phone</th>\n",
       "      <th>display_phone</th>\n",
       "      <th>distance</th>\n",
       "    </tr>\n",
       "  </thead>\n",
       "  <tbody>\n",
       "    <tr>\n",
       "      <th>995</th>\n",
       "      <td>YbENoUWAXj_UdGK6UXajfw</td>\n",
       "      <td>hudson-blue-bar-and-view-weehawken</td>\n",
       "      <td>Hudson Blue Bar and View</td>\n",
       "      <td>https://s3-media2.fl.yelpcdn.com/bphoto/RJJAJQ...</td>\n",
       "      <td>False</td>\n",
       "      <td>https://www.yelp.com/biz/hudson-blue-bar-and-v...</td>\n",
       "      <td>23</td>\n",
       "      <td>[{'alias': 'sportsbars', 'title': 'Sports Bars...</td>\n",
       "      <td>4.0</td>\n",
       "      <td>{'latitude': 40.776739823349494, 'longitude': ...</td>\n",
       "      <td>[delivery]</td>\n",
       "      <td>$$</td>\n",
       "      <td>{'address1': '4800 Ave Port Imperial Blvd', 'a...</td>\n",
       "      <td>+12013483200</td>\n",
       "      <td>(201) 348-3200</td>\n",
       "      <td>8048.974132</td>\n",
       "    </tr>\n",
       "    <tr>\n",
       "      <th>996</th>\n",
       "      <td>aGmsJ6_NWw5vnLS43MZLpA</td>\n",
       "      <td>spice-new-york-4</td>\n",
       "      <td>Spice</td>\n",
       "      <td>https://s3-media2.fl.yelpcdn.com/bphoto/EiIMjZ...</td>\n",
       "      <td>False</td>\n",
       "      <td>https://www.yelp.com/biz/spice-new-york-4?adju...</td>\n",
       "      <td>55</td>\n",
       "      <td>[{'alias': 'chinese', 'title': 'Chinese'}]</td>\n",
       "      <td>2.5</td>\n",
       "      <td>{'latitude': 40.7900599, 'longitude': -73.97351}</td>\n",
       "      <td>[pickup, delivery]</td>\n",
       "      <td>$</td>\n",
       "      <td>{'address1': '610 Amsterdam Ave', 'address2': ...</td>\n",
       "      <td>+12128750050</td>\n",
       "      <td>(212) 875-0050</td>\n",
       "      <td>9566.504148</td>\n",
       "    </tr>\n",
       "    <tr>\n",
       "      <th>997</th>\n",
       "      <td>pe0kLJDb7DEWSKCbOS8D2g</td>\n",
       "      <td>otaiko-hibachi-and-sushi-lounge-bayonne</td>\n",
       "      <td>Otaiko Hibachi &amp; Sushi Lounge</td>\n",
       "      <td>https://s3-media4.fl.yelpcdn.com/bphoto/79friX...</td>\n",
       "      <td>False</td>\n",
       "      <td>https://www.yelp.com/biz/otaiko-hibachi-and-su...</td>\n",
       "      <td>246</td>\n",
       "      <td>[{'alias': 'japanese', 'title': 'Japanese'}, {...</td>\n",
       "      <td>4.0</td>\n",
       "      <td>{'latitude': 40.66791160879, 'longitude': -74....</td>\n",
       "      <td>[pickup, delivery]</td>\n",
       "      <td>$$</td>\n",
       "      <td>{'address1': '125 Lefante Way', 'address2': ''...</td>\n",
       "      <td>+12013393399</td>\n",
       "      <td>(201) 339-3399</td>\n",
       "      <td>10052.241383</td>\n",
       "    </tr>\n",
       "    <tr>\n",
       "      <th>998</th>\n",
       "      <td>_XLLSXPIjgoZQtwU3RCcQA</td>\n",
       "      <td>hunan-delight-brooklyn-2</td>\n",
       "      <td>Hunan Delight</td>\n",
       "      <td>https://s3-media3.fl.yelpcdn.com/bphoto/aS-LlY...</td>\n",
       "      <td>False</td>\n",
       "      <td>https://www.yelp.com/biz/hunan-delight-brookly...</td>\n",
       "      <td>346</td>\n",
       "      <td>[{'alias': 'chinese', 'title': 'Chinese'}]</td>\n",
       "      <td>4.0</td>\n",
       "      <td>{'latitude': 40.6755282563532, 'longitude': -7...</td>\n",
       "      <td>[pickup, delivery]</td>\n",
       "      <td>$$</td>\n",
       "      <td>{'address1': '752 Union St', 'address2': None,...</td>\n",
       "      <td>+17187891400</td>\n",
       "      <td>(718) 789-1400</td>\n",
       "      <td>3596.767124</td>\n",
       "    </tr>\n",
       "    <tr>\n",
       "      <th>999</th>\n",
       "      <td>p5TXtpCmgfR77oMT4SLYPg</td>\n",
       "      <td>ganga-asian-bistro-matawan</td>\n",
       "      <td>Ganga Asian Bistro</td>\n",
       "      <td>https://s3-media1.fl.yelpcdn.com/bphoto/UOQfb2...</td>\n",
       "      <td>False</td>\n",
       "      <td>https://www.yelp.com/biz/ganga-asian-bistro-ma...</td>\n",
       "      <td>402</td>\n",
       "      <td>[{'alias': 'asianfusion', 'title': 'Asian Fusi...</td>\n",
       "      <td>4.0</td>\n",
       "      <td>{'latitude': 40.4217656, 'longitude': -74.26468}</td>\n",
       "      <td>[delivery]</td>\n",
       "      <td>$$</td>\n",
       "      <td>{'address1': '432 Rte 34', 'address2': '', 'ad...</td>\n",
       "      <td>+17327658808</td>\n",
       "      <td>(732) 765-8808</td>\n",
       "      <td>38944.594272</td>\n",
       "    </tr>\n",
       "  </tbody>\n",
       "</table>\n",
       "</div>"
      ],
      "text/plain": [
       "                         id                                    alias  \\\n",
       "995  YbENoUWAXj_UdGK6UXajfw       hudson-blue-bar-and-view-weehawken   \n",
       "996  aGmsJ6_NWw5vnLS43MZLpA                         spice-new-york-4   \n",
       "997  pe0kLJDb7DEWSKCbOS8D2g  otaiko-hibachi-and-sushi-lounge-bayonne   \n",
       "998  _XLLSXPIjgoZQtwU3RCcQA                 hunan-delight-brooklyn-2   \n",
       "999  p5TXtpCmgfR77oMT4SLYPg               ganga-asian-bistro-matawan   \n",
       "\n",
       "                              name  \\\n",
       "995       Hudson Blue Bar and View   \n",
       "996                          Spice   \n",
       "997  Otaiko Hibachi & Sushi Lounge   \n",
       "998                  Hunan Delight   \n",
       "999             Ganga Asian Bistro   \n",
       "\n",
       "                                             image_url  is_closed  \\\n",
       "995  https://s3-media2.fl.yelpcdn.com/bphoto/RJJAJQ...      False   \n",
       "996  https://s3-media2.fl.yelpcdn.com/bphoto/EiIMjZ...      False   \n",
       "997  https://s3-media4.fl.yelpcdn.com/bphoto/79friX...      False   \n",
       "998  https://s3-media3.fl.yelpcdn.com/bphoto/aS-LlY...      False   \n",
       "999  https://s3-media1.fl.yelpcdn.com/bphoto/UOQfb2...      False   \n",
       "\n",
       "                                                   url  review_count  \\\n",
       "995  https://www.yelp.com/biz/hudson-blue-bar-and-v...            23   \n",
       "996  https://www.yelp.com/biz/spice-new-york-4?adju...            55   \n",
       "997  https://www.yelp.com/biz/otaiko-hibachi-and-su...           246   \n",
       "998  https://www.yelp.com/biz/hunan-delight-brookly...           346   \n",
       "999  https://www.yelp.com/biz/ganga-asian-bistro-ma...           402   \n",
       "\n",
       "                                            categories  rating  \\\n",
       "995  [{'alias': 'sportsbars', 'title': 'Sports Bars...     4.0   \n",
       "996         [{'alias': 'chinese', 'title': 'Chinese'}]     2.5   \n",
       "997  [{'alias': 'japanese', 'title': 'Japanese'}, {...     4.0   \n",
       "998         [{'alias': 'chinese', 'title': 'Chinese'}]     4.0   \n",
       "999  [{'alias': 'asianfusion', 'title': 'Asian Fusi...     4.0   \n",
       "\n",
       "                                           coordinates        transactions  \\\n",
       "995  {'latitude': 40.776739823349494, 'longitude': ...          [delivery]   \n",
       "996   {'latitude': 40.7900599, 'longitude': -73.97351}  [pickup, delivery]   \n",
       "997  {'latitude': 40.66791160879, 'longitude': -74....  [pickup, delivery]   \n",
       "998  {'latitude': 40.6755282563532, 'longitude': -7...  [pickup, delivery]   \n",
       "999   {'latitude': 40.4217656, 'longitude': -74.26468}          [delivery]   \n",
       "\n",
       "    price                                           location         phone  \\\n",
       "995    $$  {'address1': '4800 Ave Port Imperial Blvd', 'a...  +12013483200   \n",
       "996     $  {'address1': '610 Amsterdam Ave', 'address2': ...  +12128750050   \n",
       "997    $$  {'address1': '125 Lefante Way', 'address2': ''...  +12013393399   \n",
       "998    $$  {'address1': '752 Union St', 'address2': None,...  +17187891400   \n",
       "999    $$  {'address1': '432 Rte 34', 'address2': '', 'ad...  +17327658808   \n",
       "\n",
       "      display_phone      distance  \n",
       "995  (201) 348-3200   8048.974132  \n",
       "996  (212) 875-0050   9566.504148  \n",
       "997  (201) 339-3399  10052.241383  \n",
       "998  (718) 789-1400   3596.767124  \n",
       "999  (732) 765-8808  38944.594272  "
      ]
     },
     "metadata": {},
     "output_type": "display_data"
    }
   ],
   "source": [
    "# load final results\n",
    "final_df = pd.read_json(JSON_FILE)\n",
    "display(final_df.head(), final_df.tail())"
   ]
  },
  {
   "cell_type": "code",
   "execution_count": 19,
   "id": "4c87a0f9-78c3-425d-8a7f-6bd5db09255e",
   "metadata": {},
   "outputs": [
    {
     "data": {
      "text/plain": [
       "6"
      ]
     },
     "execution_count": 19,
     "metadata": {},
     "output_type": "execute_result"
    }
   ],
   "source": [
    "# check for duplicate ID's \n",
    "final_df.duplicated(subset='id').sum()"
   ]
  },
  {
   "cell_type": "code",
   "execution_count": 20,
   "id": "aa97ba5f-fb25-40bb-8e75-f03dad06ea13",
   "metadata": {},
   "outputs": [
    {
     "data": {
      "text/plain": [
       "0"
      ]
     },
     "execution_count": 20,
     "metadata": {},
     "output_type": "execute_result"
    }
   ],
   "source": [
    "## Drop duplicate ids and confirm there are no more duplicates\n",
    "final_df = final_df.drop_duplicates(subset='id')\n",
    "final_df.duplicated(subset='id').sum()"
   ]
  },
  {
   "cell_type": "code",
   "execution_count": 21,
   "id": "911b8233-cccb-4352-b5f0-20c4c421a709",
   "metadata": {},
   "outputs": [],
   "source": [
    "# save the final results to a compressed csv\n",
    "final_df.to_csv('Data/final_results_ny_thai.csv.gz', compression='gzip',index=False)"
   ]
  }
 ],
 "metadata": {
  "kernelspec": {
   "display_name": "Python 3 (ipykernel)",
   "language": "python",
   "name": "python3"
  },
  "language_info": {
   "codemirror_mode": {
    "name": "ipython",
    "version": 3
   },
   "file_extension": ".py",
   "mimetype": "text/x-python",
   "name": "python",
   "nbconvert_exporter": "python",
   "pygments_lexer": "ipython3",
   "version": "3.10.10"
  },
  "widgets": {
   "application/vnd.jupyter.widget-state+json": {
    "state": {
     "12e8b902b4dc476b97839195abd15d52": {
      "model_module": "@jupyter-widgets/controls",
      "model_module_version": "2.0.0",
      "model_name": "HBoxModel",
      "state": {
       "children": [
        "IPY_MODEL_1b7e7c038b92425d8ea1c6b10d3298d6",
        "IPY_MODEL_449eae752b79495283e4e8da926c54d6",
        "IPY_MODEL_c07091452a404903bad5b958e3d4d738"
       ],
       "layout": "IPY_MODEL_7d8a3557d18e43a7af3b4b9dd3255927"
      }
     },
     "1b7e7c038b92425d8ea1c6b10d3298d6": {
      "model_module": "@jupyter-widgets/controls",
      "model_module_version": "2.0.0",
      "model_name": "HTMLModel",
      "state": {
       "layout": "IPY_MODEL_aff9d977f92a4a089a30627a627ea48d",
       "style": "IPY_MODEL_51ec9cf4dcad463c9a45c7d1c2ee14c2",
       "value": " 34%"
      }
     },
     "2761ede610b24d38b25cc1633616947f": {
      "model_module": "@jupyter-widgets/controls",
      "model_module_version": "2.0.0",
      "model_name": "HBoxModel",
      "state": {
       "children": [
        "IPY_MODEL_6ac4c5c88b46479ca47c09d8614ea495",
        "IPY_MODEL_288c4f14fbff4caebcc16c06443440d4",
        "IPY_MODEL_6d45a3b0a4434797a3b15bd49079f6f5"
       ],
       "layout": "IPY_MODEL_a2ef798f9b75467183aa87306e38cb0f"
      }
     },
     "288c4f14fbff4caebcc16c06443440d4": {
      "model_module": "@jupyter-widgets/controls",
      "model_module_version": "2.0.0",
      "model_name": "FloatProgressModel",
      "state": {
       "bar_style": "success",
       "layout": "IPY_MODEL_947e0d54ac7a4aecb67c485da4b885de",
       "max": 145,
       "style": "IPY_MODEL_7446f7d50f04410380cc84f881ccd109",
       "value": 145
      }
     },
     "3885934a9a7c47689e73284861c37acd": {
      "model_module": "@jupyter-widgets/controls",
      "model_module_version": "2.0.0",
      "model_name": "HTMLStyleModel",
      "state": {
       "description_width": "",
       "font_size": null,
       "text_color": null
      }
     },
     "449eae752b79495283e4e8da926c54d6": {
      "model_module": "@jupyter-widgets/controls",
      "model_module_version": "2.0.0",
      "model_name": "FloatProgressModel",
      "state": {
       "bar_style": "danger",
       "layout": "IPY_MODEL_c709d23f7deb447aae9d6af85febc901",
       "max": 145,
       "style": "IPY_MODEL_951911a3f5df40a1a57ed22e8b7bc66d",
       "value": 50
      }
     },
     "51ec9cf4dcad463c9a45c7d1c2ee14c2": {
      "model_module": "@jupyter-widgets/controls",
      "model_module_version": "2.0.0",
      "model_name": "HTMLStyleModel",
      "state": {
       "description_width": "",
       "font_size": null,
       "text_color": null
      }
     },
     "6ac4c5c88b46479ca47c09d8614ea495": {
      "model_module": "@jupyter-widgets/controls",
      "model_module_version": "2.0.0",
      "model_name": "HTMLModel",
      "state": {
       "layout": "IPY_MODEL_e43d01dd0e194bbd9dcf9587834b9c1f",
       "style": "IPY_MODEL_fd5492f7bf3e484084f810f152df0083",
       "value": "100%"
      }
     },
     "6d45a3b0a4434797a3b15bd49079f6f5": {
      "model_module": "@jupyter-widgets/controls",
      "model_module_version": "2.0.0",
      "model_name": "HTMLModel",
      "state": {
       "layout": "IPY_MODEL_f51ac67872964b3fa508673f43361ea3",
       "style": "IPY_MODEL_3885934a9a7c47689e73284861c37acd",
       "value": " 145/145 [00:30&lt;00:00,  4.86it/s]"
      }
     },
     "7446f7d50f04410380cc84f881ccd109": {
      "model_module": "@jupyter-widgets/controls",
      "model_module_version": "2.0.0",
      "model_name": "ProgressStyleModel",
      "state": {
       "description_width": ""
      }
     },
     "7d8a3557d18e43a7af3b4b9dd3255927": {
      "model_module": "@jupyter-widgets/base",
      "model_module_version": "2.0.0",
      "model_name": "LayoutModel",
      "state": {}
     },
     "947e0d54ac7a4aecb67c485da4b885de": {
      "model_module": "@jupyter-widgets/base",
      "model_module_version": "2.0.0",
      "model_name": "LayoutModel",
      "state": {}
     },
     "951911a3f5df40a1a57ed22e8b7bc66d": {
      "model_module": "@jupyter-widgets/controls",
      "model_module_version": "2.0.0",
      "model_name": "ProgressStyleModel",
      "state": {
       "description_width": ""
      }
     },
     "a1997e04eea840a6847f233e080ada10": {
      "model_module": "@jupyter-widgets/controls",
      "model_module_version": "2.0.0",
      "model_name": "HTMLStyleModel",
      "state": {
       "description_width": "",
       "font_size": null,
       "text_color": null
      }
     },
     "a2ef798f9b75467183aa87306e38cb0f": {
      "model_module": "@jupyter-widgets/base",
      "model_module_version": "2.0.0",
      "model_name": "LayoutModel",
      "state": {}
     },
     "aff9d977f92a4a089a30627a627ea48d": {
      "model_module": "@jupyter-widgets/base",
      "model_module_version": "2.0.0",
      "model_name": "LayoutModel",
      "state": {}
     },
     "c07091452a404903bad5b958e3d4d738": {
      "model_module": "@jupyter-widgets/controls",
      "model_module_version": "2.0.0",
      "model_name": "HTMLModel",
      "state": {
       "layout": "IPY_MODEL_e33e98235d624e03ad8f1dde87147c4b",
       "style": "IPY_MODEL_a1997e04eea840a6847f233e080ada10",
       "value": " 50/145 [01:34&lt;03:48,  2.41s/it]"
      }
     },
     "c709d23f7deb447aae9d6af85febc901": {
      "model_module": "@jupyter-widgets/base",
      "model_module_version": "2.0.0",
      "model_name": "LayoutModel",
      "state": {}
     },
     "e33e98235d624e03ad8f1dde87147c4b": {
      "model_module": "@jupyter-widgets/base",
      "model_module_version": "2.0.0",
      "model_name": "LayoutModel",
      "state": {}
     },
     "e43d01dd0e194bbd9dcf9587834b9c1f": {
      "model_module": "@jupyter-widgets/base",
      "model_module_version": "2.0.0",
      "model_name": "LayoutModel",
      "state": {}
     },
     "f51ac67872964b3fa508673f43361ea3": {
      "model_module": "@jupyter-widgets/base",
      "model_module_version": "2.0.0",
      "model_name": "LayoutModel",
      "state": {}
     },
     "fd5492f7bf3e484084f810f152df0083": {
      "model_module": "@jupyter-widgets/controls",
      "model_module_version": "2.0.0",
      "model_name": "HTMLStyleModel",
      "state": {
       "description_width": "",
       "font_size": null,
       "text_color": null
      }
     }
    },
    "version_major": 2,
    "version_minor": 0
   }
  }
 },
 "nbformat": 4,
 "nbformat_minor": 5
}
