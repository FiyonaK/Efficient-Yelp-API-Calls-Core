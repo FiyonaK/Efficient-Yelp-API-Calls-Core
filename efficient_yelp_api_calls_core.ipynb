{
 "cells": [
  {
   "cell_type": "code",
   "execution_count": 81,
   "id": "92d2449d-dffd-4eba-ac6e-ab4088a723d7",
   "metadata": {},
   "outputs": [],
   "source": [
    "# Standard Imports\n",
    "import numpy as np\n",
    "import pandas as pd\n",
    "import matplotlib.pyplot as plt\n",
    "import seaborn as sns\n",
    "# Additional Imports\n",
    "import os, json, math, time\n",
    "from yelpapi import YelpAPI\n",
    "from tqdm.notebook import tqdm_notebook"
   ]
  },
  {
   "cell_type": "code",
   "execution_count": 82,
   "id": "5f067915-de44-4ced-a3d7-e7851a43f106",
   "metadata": {},
   "outputs": [],
   "source": [
    "# Load API Credentials\n",
    "with open('Data/config.json') as f:  \n",
    "    login = json.load(f)\n",
    "# Instantiate YelpAPI Variable\n",
    "yelp_api = YelpAPI(login['api-key'], timeout_s=5.0)"
   ]
  },
  {
   "cell_type": "code",
   "execution_count": 83,
   "id": "32b7ce3f-1e3b-48ff-94ac-8e24a6039e37",
   "metadata": {},
   "outputs": [],
   "source": [
    "# set our API call parameters \n",
    "LOCATION = 'NY,NY'\n",
    "TERM = 'Thai'"
   ]
  },
  {
   "cell_type": "code",
   "execution_count": 84,
   "id": "60450420-c357-411f-8fc9-ad0e0ec884cc",
   "metadata": {},
   "outputs": [
    {
     "data": {
      "text/plain": [
       "'Data/results_in_progress_ny_thai.json'"
      ]
     },
     "execution_count": 84,
     "metadata": {},
     "output_type": "execute_result"
    }
   ],
   "source": [
    "# Specifying JSON_FILE filename (can include a folder)\n",
    "# include the search terms in the filename\n",
    "JSON_FILE = \"Data/results_in_progress_ny_thai.json\"\n",
    "JSON_FILE"
   ]
  },
  {
   "cell_type": "code",
   "execution_count": 85,
   "id": "08b9ff3f-5876-4eb8-9c1e-ece4efe93068",
   "metadata": {},
   "outputs": [
    {
     "name": "stdout",
     "output_type": "stream",
     "text": [
      "[i] Data/results_in_progress_ny_thai.json not found. Saving empty list to file.\n"
     ]
    }
   ],
   "source": [
    "## Check if JSON_FILE exists\n",
    "file_exists = os.path.isfile(JSON_FILE)\n",
    "## If it does not exist: \n",
    "if file_exists == False:\n",
    "    \n",
    "    ## CREATE ANY NEEDED FOLDERS\n",
    "    # Get the Folder Name only\n",
    "    folder = os.path.dirname(JSON_FILE)\n",
    "    ## If JSON_FILE included a folder:\n",
    "    if len(folder)>0:\n",
    "        # create the folder\n",
    "        os.makedirs(folder,exist_ok=True)\n",
    "        \n",
    "        \n",
    "    ## INFORM USER AND SAVE EMPTY LIST\n",
    "    print(f'[i] {JSON_FILE} not found. Saving empty list to file.')\n",
    "    \n",
    "    \n",
    "    # save an empty list\n",
    "    with open(JSON_FILE,'w') as f:\n",
    "        json.dump([],f)  \n",
    "# If it exists, inform user\n",
    "else:\n",
    "    print(f\"[i] {JSON_FILE} already exists.\")"
   ]
  },
  {
   "cell_type": "code",
   "execution_count": 86,
   "id": "623b9f3d-4e38-4533-95d9-ee69627de6c9",
   "metadata": {},
   "outputs": [
    {
     "name": "stdout",
     "output_type": "stream",
     "text": [
      "- 0 previous results found.\n"
     ]
    }
   ],
   "source": [
    "## Load previous results and use len of results for offset\n",
    "with open(JSON_FILE,'r') as f:\n",
    "    previous_results = json.load(f)\n",
    "    \n",
    "## set offset based on previous results\n",
    "n_results = len(previous_results)\n",
    "print(f'- {n_results} previous results found.')"
   ]
  },
  {
   "cell_type": "code",
   "execution_count": 87,
   "id": "09c191fd-7d26-4569-a72d-70c0e0091482",
   "metadata": {},
   "outputs": [
    {
     "data": {
      "text/plain": [
       "dict_keys(['businesses', 'total', 'region'])"
      ]
     },
     "execution_count": 87,
     "metadata": {},
     "output_type": "execute_result"
    }
   ],
   "source": [
    "# use our yelp_api variable's search_query method to perform our API call\n",
    "results = yelp_api.search_query(location=LOCATION,\n",
    "                                term=TERM,\n",
    "                               offset=n_results)\n",
    "results.keys()"
   ]
  },
  {
   "cell_type": "code",
   "execution_count": 88,
   "id": "f6655470-0bd0-4084-a020-5a5a4abcf5ee",
   "metadata": {},
   "outputs": [
    {
     "data": {
      "text/plain": [
       "2900"
      ]
     },
     "execution_count": 88,
     "metadata": {},
     "output_type": "execute_result"
    }
   ],
   "source": [
    "## How many results total?\n",
    "total_results = results['total']\n",
    "total_results"
   ]
  },
  {
   "cell_type": "code",
   "execution_count": 89,
   "id": "1ad18926-92b0-40db-a0d5-9fbb8e7127aa",
   "metadata": {},
   "outputs": [
    {
     "data": {
      "text/plain": [
       "20"
      ]
     },
     "execution_count": 89,
     "metadata": {},
     "output_type": "execute_result"
    }
   ],
   "source": [
    "## How many did we get the details for?\n",
    "results_per_page = len(results['businesses'])\n",
    "results_per_page"
   ]
  },
  {
   "cell_type": "code",
   "execution_count": 90,
   "id": "ebb37131-3cb2-40fc-805d-555bcda8f3da",
   "metadata": {},
   "outputs": [
    {
     "data": {
      "text/plain": [
       "145"
      ]
     },
     "execution_count": 90,
     "metadata": {},
     "output_type": "execute_result"
    }
   ],
   "source": [
    "# Use math.ceil to round up for the total number of pages of results.\n",
    "n_pages = math.ceil((results['total']-n_results)/ results_per_page)\n",
    "n_pages"
   ]
  },
  {
   "cell_type": "code",
   "execution_count": 91,
   "id": "bf442856-1a76-4d57-b79c-3824a4b2cdd6",
   "metadata": {},
   "outputs": [],
   "source": [
    "# join new results with old list with extend and save to file\n",
    "previous_results.extend(results['businesses'])  \n",
    "with open(JSON_FILE,'w') as f:\n",
    "     json.dump(previous_results,f)"
   ]
  },
  {
   "cell_type": "code",
   "execution_count": 92,
   "id": "6140831c-0dd1-4fc7-96c3-09c6c366b861",
   "metadata": {},
   "outputs": [
    {
     "data": {
      "application/vnd.jupyter.widget-view+json": {
       "model_id": "d757b201921c4acca292fd833d84663a",
       "version_major": 2,
       "version_minor": 0
      },
      "text/plain": [
       "  0%|          | 0/145 [00:00<?, ?it/s]"
      ]
     },
     "metadata": {},
     "output_type": "display_data"
    }
   ],
   "source": [
    "for i in tqdm_notebook(range(n_pages)):\n",
    "    # adds 200 ms pause\n",
    "    time.sleep(.2) "
   ]
  },
  {
   "cell_type": "code",
   "execution_count": 93,
   "id": "87bb9f7f-8540-465a-ba82-cbe25642c535",
   "metadata": {},
   "outputs": [],
   "source": [
    "def create_json_file(JSON_FILE,  delete_if_exists=False):\n",
    "    \n",
    "    ## Check if JSON_FILE exists\n",
    "    file_exists = os.path.isfile(JSON_FILE)\n",
    "    \n",
    "    ## If it DOES exist:\n",
    "    if file_exists == True:\n",
    "        \n",
    "        ## Check if user wants to delete if exists\n",
    "        if delete_if_exists==True:\n",
    "            \n",
    "            print(f\"[!] {JSON_FILE} already exists. Deleting previous file...\")\n",
    "            ## delete file and confirm it no longer exits.\n",
    "            os.remove(JSON_FILE)\n",
    "            ## Recursive call to function after old file deleted\n",
    "            create_json_file(JSON_FILE,delete_if_exists=False)\n",
    "        else:\n",
    "            print(f\"[i] {JSON_FILE} already exists.\")            \n",
    "            \n",
    "            \n",
    "    ## If it does NOT exist:\n",
    "    else:\n",
    "        \n",
    "        ## INFORM USER AND SAVE EMPTY LIST\n",
    "        print(f\"[i] {JSON_FILE} not found. Saving empty list to new file.\")\n",
    "        \n",
    "        ## CREATE ANY NEEDED FOLDERS\n",
    "        # Get the Folder Name only\n",
    "        folder = os.path.dirname(JSON_FILE)\n",
    "        \n",
    "        ## If JSON_FILE included a folder:\n",
    "        if len(folder)>0:\n",
    "            # create the folder\n",
    "            os.makedirs(folder,exist_ok=True)\n",
    "        ## Save empty list to start the json file\n",
    "        with open(JSON_FILE,'w') as f:\n",
    "            json.dump([],f)  "
   ]
  },
  {
   "cell_type": "code",
   "execution_count": 94,
   "id": "f273ed9b-7efa-47cf-92ed-10b2a29335df",
   "metadata": {},
   "outputs": [
    {
     "name": "stdout",
     "output_type": "stream",
     "text": [
      "[!] Data/results_in_progress_ny_thai.json already exists. Deleting previous file...\n",
      "[i] Data/results_in_progress_ny_thai.json not found. Saving empty list to new file.\n",
      "- 0 previous results found.\n"
     ]
    },
    {
     "data": {
      "text/plain": [
       "145"
      ]
     },
     "execution_count": 94,
     "metadata": {},
     "output_type": "execute_result"
    }
   ],
   "source": [
    "## Create a new empty json file (exist the previous if it exists)\n",
    "create_json_file(JSON_FILE, delete_if_exists=True)\n",
    "## Load previous results and use len of results for offset\n",
    "with open(JSON_FILE,'r') as f:\n",
    "    previous_results = json.load(f)\n",
    "    \n",
    "## set offset based on previous results\n",
    "n_results = len(previous_results)\n",
    "print(f'- {n_results} previous results found.')\n",
    "# use our yelp_api variable's search_query method to perform our API call\n",
    "results = yelp_api.search_query(location=LOCATION,\n",
    "                                term=TERM,\n",
    "                               offset=n_results)\n",
    "## How many results total?\n",
    "total_results = results['total']\n",
    "## How many did we get the details for?\n",
    "results_per_page = len(results['businesses'])\n",
    "# Use math.ceil to round up for the total number of pages of results.\n",
    "n_pages = math.ceil((results['total']-n_results)/ results_per_page)\n",
    "n_pages"
   ]
  },
  {
   "cell_type": "code",
   "execution_count": 95,
   "id": "35f92151-fc35-445f-b5f7-e9ef70c6b11c",
   "metadata": {},
   "outputs": [
    {
     "data": {
      "application/vnd.jupyter.widget-view+json": {
       "model_id": "1db8f5d28c1f4cf6a806af767158fc2e",
       "version_major": 2,
       "version_minor": 0
      },
      "text/plain": [
       "  0%|          | 0/145 [00:00<?, ?it/s]"
      ]
     },
     "metadata": {},
     "output_type": "display_data"
    },
    {
     "name": "stdout",
     "output_type": "stream",
     "text": [
      "Exceeded 1000 api calls. Stopping loop.\n"
     ]
    }
   ],
   "source": [
    "for i in tqdm_notebook( range(1,n_pages+1)):\n",
    "    \n",
    "    ## Read in results in progress file and check the length\n",
    "    with open(JSON_FILE, 'r') as f:\n",
    "        previous_results = json.load(f)\n",
    "    ## save number of results for to use as offset\n",
    "    n_results = len(previous_results)\n",
    "    \n",
    "    if (n_results + results_per_page) > 1000:\n",
    "        print('Exceeded 1000 api calls. Stopping loop.')\n",
    "        break\n",
    "    \n",
    "    ## use n_results as the OFFSET \n",
    "    results = yelp_api.search_query(location=LOCATION,\n",
    "                                    term=TERM, \n",
    "                                    offset=n_results)\n",
    "    \n",
    "    \n",
    "    \n",
    "    ## append new results and save to file\n",
    "    previous_results.extend(results['businesses'])\n",
    "    \n",
    "    # display(previous_results)\n",
    "    with open(JSON_FILE,'w') as f:\n",
    "        json.dump(previous_results,f)\n",
    "    \n",
    "    time.sleep(.2)"
   ]
  },
  {
   "cell_type": "code",
   "execution_count": 96,
   "id": "23eee9bd-53dd-42b6-aae3-6e8b8ca7d88d",
   "metadata": {},
   "outputs": [
    {
     "data": {
      "text/html": [
       "<div>\n",
       "<style scoped>\n",
       "    .dataframe tbody tr th:only-of-type {\n",
       "        vertical-align: middle;\n",
       "    }\n",
       "\n",
       "    .dataframe tbody tr th {\n",
       "        vertical-align: top;\n",
       "    }\n",
       "\n",
       "    .dataframe thead th {\n",
       "        text-align: right;\n",
       "    }\n",
       "</style>\n",
       "<table border=\"1\" class=\"dataframe\">\n",
       "  <thead>\n",
       "    <tr style=\"text-align: right;\">\n",
       "      <th></th>\n",
       "      <th>id</th>\n",
       "      <th>alias</th>\n",
       "      <th>name</th>\n",
       "      <th>image_url</th>\n",
       "      <th>is_closed</th>\n",
       "      <th>url</th>\n",
       "      <th>review_count</th>\n",
       "      <th>categories</th>\n",
       "      <th>rating</th>\n",
       "      <th>coordinates</th>\n",
       "      <th>transactions</th>\n",
       "      <th>price</th>\n",
       "      <th>location</th>\n",
       "      <th>phone</th>\n",
       "      <th>display_phone</th>\n",
       "      <th>distance</th>\n",
       "    </tr>\n",
       "  </thead>\n",
       "  <tbody>\n",
       "    <tr>\n",
       "      <th>0</th>\n",
       "      <td>jjJc_CrkB2HodEinB6cWww</td>\n",
       "      <td>lovemama-new-york</td>\n",
       "      <td>LoveMama</td>\n",
       "      <td>https://s3-media1.fl.yelpcdn.com/bphoto/bLlFKT...</td>\n",
       "      <td>False</td>\n",
       "      <td>https://www.yelp.com/biz/lovemama-new-york?adj...</td>\n",
       "      <td>6576</td>\n",
       "      <td>[{'alias': 'thai', 'title': 'Thai'}, {'alias':...</td>\n",
       "      <td>4.5</td>\n",
       "      <td>{'latitude': 40.730408722512074, 'longitude': ...</td>\n",
       "      <td>[delivery, restaurant_reservation, pickup]</td>\n",
       "      <td>$$</td>\n",
       "      <td>{'address1': '174 2nd Ave', 'address2': '', 'a...</td>\n",
       "      <td>+12122545370</td>\n",
       "      <td>(212) 254-5370</td>\n",
       "      <td>2859.902795</td>\n",
       "    </tr>\n",
       "    <tr>\n",
       "      <th>1</th>\n",
       "      <td>-XYp6w50XbZfS90YddS5ew</td>\n",
       "      <td>soothr-new-york-2</td>\n",
       "      <td>Soothr</td>\n",
       "      <td>https://s3-media2.fl.yelpcdn.com/bphoto/HxjVE7...</td>\n",
       "      <td>False</td>\n",
       "      <td>https://www.yelp.com/biz/soothr-new-york-2?adj...</td>\n",
       "      <td>1157</td>\n",
       "      <td>[{'alias': 'thai', 'title': 'Thai'}, {'alias':...</td>\n",
       "      <td>4.5</td>\n",
       "      <td>{'latitude': 40.732259, 'longitude': -73.987363}</td>\n",
       "      <td>[delivery, pickup]</td>\n",
       "      <td>$$</td>\n",
       "      <td>{'address1': '204 E 13th St', 'address2': '', ...</td>\n",
       "      <td>+12128449789</td>\n",
       "      <td>(212) 844-9789</td>\n",
       "      <td>3043.263183</td>\n",
       "    </tr>\n",
       "    <tr>\n",
       "      <th>2</th>\n",
       "      <td>B3_K2kUVbYOU0VaLcj_LTw</td>\n",
       "      <td>thai-villa-new-york-2</td>\n",
       "      <td>Thai Villa</td>\n",
       "      <td>https://s3-media2.fl.yelpcdn.com/bphoto/PYopFn...</td>\n",
       "      <td>False</td>\n",
       "      <td>https://www.yelp.com/biz/thai-villa-new-york-2...</td>\n",
       "      <td>4845</td>\n",
       "      <td>[{'alias': 'thai', 'title': 'Thai'}]</td>\n",
       "      <td>4.5</td>\n",
       "      <td>{'latitude': 40.73902, 'longitude': -73.99065}</td>\n",
       "      <td>[delivery, pickup]</td>\n",
       "      <td>$$</td>\n",
       "      <td>{'address1': '5 E 19th St', 'address2': 'G Flo...</td>\n",
       "      <td>+12128029999</td>\n",
       "      <td>(212) 802-9999</td>\n",
       "      <td>3744.570400</td>\n",
       "    </tr>\n",
       "    <tr>\n",
       "      <th>3</th>\n",
       "      <td>0IFDnYf3bhqxJR6hVrG7Gw</td>\n",
       "      <td>top-thai-vintage-new-york-3</td>\n",
       "      <td>Top Thai Vintage</td>\n",
       "      <td>https://s3-media3.fl.yelpcdn.com/bphoto/-ZoEVV...</td>\n",
       "      <td>False</td>\n",
       "      <td>https://www.yelp.com/biz/top-thai-vintage-new-...</td>\n",
       "      <td>1131</td>\n",
       "      <td>[{'alias': 'thai', 'title': 'Thai'}, {'alias':...</td>\n",
       "      <td>4.5</td>\n",
       "      <td>{'latitude': 40.729907419973344, 'longitude': ...</td>\n",
       "      <td>[delivery, pickup, restaurant_reservation]</td>\n",
       "      <td>$$$</td>\n",
       "      <td>{'address1': '55 Carmine St', 'address2': None...</td>\n",
       "      <td>+16466092272</td>\n",
       "      <td>(646) 609-2272</td>\n",
       "      <td>2845.705425</td>\n",
       "    </tr>\n",
       "    <tr>\n",
       "      <th>4</th>\n",
       "      <td>egDEaHpDumYHzRUZ8JBU-w</td>\n",
       "      <td>pranakhon-thai-restaurant-new-york-2</td>\n",
       "      <td>Pranakhon Thai Restaurant</td>\n",
       "      <td>https://s3-media1.fl.yelpcdn.com/bphoto/XB_CUH...</td>\n",
       "      <td>False</td>\n",
       "      <td>https://www.yelp.com/biz/pranakhon-thai-restau...</td>\n",
       "      <td>311</td>\n",
       "      <td>[{'alias': 'thai', 'title': 'Thai'}, {'alias':...</td>\n",
       "      <td>4.5</td>\n",
       "      <td>{'latitude': 40.73369, 'longitude': -73.99316}</td>\n",
       "      <td>[delivery, pickup]</td>\n",
       "      <td>NaN</td>\n",
       "      <td>{'address1': '88 University Pl', 'address2': N...</td>\n",
       "      <td>+12127866789</td>\n",
       "      <td>(212) 786-6789</td>\n",
       "      <td>3144.403563</td>\n",
       "    </tr>\n",
       "  </tbody>\n",
       "</table>\n",
       "</div>"
      ],
      "text/plain": [
       "                       id                                 alias  \\\n",
       "0  jjJc_CrkB2HodEinB6cWww                     lovemama-new-york   \n",
       "1  -XYp6w50XbZfS90YddS5ew                     soothr-new-york-2   \n",
       "2  B3_K2kUVbYOU0VaLcj_LTw                 thai-villa-new-york-2   \n",
       "3  0IFDnYf3bhqxJR6hVrG7Gw           top-thai-vintage-new-york-3   \n",
       "4  egDEaHpDumYHzRUZ8JBU-w  pranakhon-thai-restaurant-new-york-2   \n",
       "\n",
       "                        name  \\\n",
       "0                   LoveMama   \n",
       "1                     Soothr   \n",
       "2                 Thai Villa   \n",
       "3           Top Thai Vintage   \n",
       "4  Pranakhon Thai Restaurant   \n",
       "\n",
       "                                           image_url  is_closed  \\\n",
       "0  https://s3-media1.fl.yelpcdn.com/bphoto/bLlFKT...      False   \n",
       "1  https://s3-media2.fl.yelpcdn.com/bphoto/HxjVE7...      False   \n",
       "2  https://s3-media2.fl.yelpcdn.com/bphoto/PYopFn...      False   \n",
       "3  https://s3-media3.fl.yelpcdn.com/bphoto/-ZoEVV...      False   \n",
       "4  https://s3-media1.fl.yelpcdn.com/bphoto/XB_CUH...      False   \n",
       "\n",
       "                                                 url  review_count  \\\n",
       "0  https://www.yelp.com/biz/lovemama-new-york?adj...          6576   \n",
       "1  https://www.yelp.com/biz/soothr-new-york-2?adj...          1157   \n",
       "2  https://www.yelp.com/biz/thai-villa-new-york-2...          4845   \n",
       "3  https://www.yelp.com/biz/top-thai-vintage-new-...          1131   \n",
       "4  https://www.yelp.com/biz/pranakhon-thai-restau...           311   \n",
       "\n",
       "                                          categories  rating  \\\n",
       "0  [{'alias': 'thai', 'title': 'Thai'}, {'alias':...     4.5   \n",
       "1  [{'alias': 'thai', 'title': 'Thai'}, {'alias':...     4.5   \n",
       "2               [{'alias': 'thai', 'title': 'Thai'}]     4.5   \n",
       "3  [{'alias': 'thai', 'title': 'Thai'}, {'alias':...     4.5   \n",
       "4  [{'alias': 'thai', 'title': 'Thai'}, {'alias':...     4.5   \n",
       "\n",
       "                                         coordinates  \\\n",
       "0  {'latitude': 40.730408722512074, 'longitude': ...   \n",
       "1   {'latitude': 40.732259, 'longitude': -73.987363}   \n",
       "2     {'latitude': 40.73902, 'longitude': -73.99065}   \n",
       "3  {'latitude': 40.729907419973344, 'longitude': ...   \n",
       "4     {'latitude': 40.73369, 'longitude': -73.99316}   \n",
       "\n",
       "                                 transactions price  \\\n",
       "0  [delivery, restaurant_reservation, pickup]    $$   \n",
       "1                          [delivery, pickup]    $$   \n",
       "2                          [delivery, pickup]    $$   \n",
       "3  [delivery, pickup, restaurant_reservation]   $$$   \n",
       "4                          [delivery, pickup]   NaN   \n",
       "\n",
       "                                            location         phone  \\\n",
       "0  {'address1': '174 2nd Ave', 'address2': '', 'a...  +12122545370   \n",
       "1  {'address1': '204 E 13th St', 'address2': '', ...  +12128449789   \n",
       "2  {'address1': '5 E 19th St', 'address2': 'G Flo...  +12128029999   \n",
       "3  {'address1': '55 Carmine St', 'address2': None...  +16466092272   \n",
       "4  {'address1': '88 University Pl', 'address2': N...  +12127866789   \n",
       "\n",
       "    display_phone     distance  \n",
       "0  (212) 254-5370  2859.902795  \n",
       "1  (212) 844-9789  3043.263183  \n",
       "2  (212) 802-9999  3744.570400  \n",
       "3  (646) 609-2272  2845.705425  \n",
       "4  (212) 786-6789  3144.403563  "
      ]
     },
     "metadata": {},
     "output_type": "display_data"
    },
    {
     "data": {
      "text/html": [
       "<div>\n",
       "<style scoped>\n",
       "    .dataframe tbody tr th:only-of-type {\n",
       "        vertical-align: middle;\n",
       "    }\n",
       "\n",
       "    .dataframe tbody tr th {\n",
       "        vertical-align: top;\n",
       "    }\n",
       "\n",
       "    .dataframe thead th {\n",
       "        text-align: right;\n",
       "    }\n",
       "</style>\n",
       "<table border=\"1\" class=\"dataframe\">\n",
       "  <thead>\n",
       "    <tr style=\"text-align: right;\">\n",
       "      <th></th>\n",
       "      <th>id</th>\n",
       "      <th>alias</th>\n",
       "      <th>name</th>\n",
       "      <th>image_url</th>\n",
       "      <th>is_closed</th>\n",
       "      <th>url</th>\n",
       "      <th>review_count</th>\n",
       "      <th>categories</th>\n",
       "      <th>rating</th>\n",
       "      <th>coordinates</th>\n",
       "      <th>transactions</th>\n",
       "      <th>price</th>\n",
       "      <th>location</th>\n",
       "      <th>phone</th>\n",
       "      <th>display_phone</th>\n",
       "      <th>distance</th>\n",
       "    </tr>\n",
       "  </thead>\n",
       "  <tbody>\n",
       "    <tr>\n",
       "      <th>995</th>\n",
       "      <td>YbENoUWAXj_UdGK6UXajfw</td>\n",
       "      <td>hudson-blue-bar-and-view-weehawken</td>\n",
       "      <td>Hudson Blue Bar and View</td>\n",
       "      <td>https://s3-media2.fl.yelpcdn.com/bphoto/RJJAJQ...</td>\n",
       "      <td>False</td>\n",
       "      <td>https://www.yelp.com/biz/hudson-blue-bar-and-v...</td>\n",
       "      <td>23</td>\n",
       "      <td>[{'alias': 'sportsbars', 'title': 'Sports Bars...</td>\n",
       "      <td>4.0</td>\n",
       "      <td>{'latitude': 40.776739823349494, 'longitude': ...</td>\n",
       "      <td>[delivery]</td>\n",
       "      <td>$$</td>\n",
       "      <td>{'address1': '4800 Ave Port Imperial Blvd', 'a...</td>\n",
       "      <td>+12013483200</td>\n",
       "      <td>(201) 348-3200</td>\n",
       "      <td>8048.974132</td>\n",
       "    </tr>\n",
       "    <tr>\n",
       "      <th>996</th>\n",
       "      <td>bMhqh_k_QZJMnVstIJzxRw</td>\n",
       "      <td>thái-son-elmhurst</td>\n",
       "      <td>Thái Son</td>\n",
       "      <td>https://s3-media2.fl.yelpcdn.com/bphoto/8I0jtd...</td>\n",
       "      <td>False</td>\n",
       "      <td>https://www.yelp.com/biz/th%C3%A1i-son-elmhurs...</td>\n",
       "      <td>547</td>\n",
       "      <td>[{'alias': 'vietnamese', 'title': 'Vietnamese'}]</td>\n",
       "      <td>3.5</td>\n",
       "      <td>{'latitude': 40.74637, 'longitude': -73.89161}</td>\n",
       "      <td>[delivery]</td>\n",
       "      <td>$$</td>\n",
       "      <td>{'address1': '40-10 74th St', 'address2': '', ...</td>\n",
       "      <td>+17184766805</td>\n",
       "      <td>(718) 476-6805</td>\n",
       "      <td>9773.038269</td>\n",
       "    </tr>\n",
       "    <tr>\n",
       "      <th>997</th>\n",
       "      <td>aGmsJ6_NWw5vnLS43MZLpA</td>\n",
       "      <td>spice-new-york-4</td>\n",
       "      <td>Spice</td>\n",
       "      <td>https://s3-media2.fl.yelpcdn.com/bphoto/EiIMjZ...</td>\n",
       "      <td>False</td>\n",
       "      <td>https://www.yelp.com/biz/spice-new-york-4?adju...</td>\n",
       "      <td>55</td>\n",
       "      <td>[{'alias': 'chinese', 'title': 'Chinese'}]</td>\n",
       "      <td>2.5</td>\n",
       "      <td>{'latitude': 40.7900599, 'longitude': -73.97351}</td>\n",
       "      <td>[delivery, pickup]</td>\n",
       "      <td>$</td>\n",
       "      <td>{'address1': '610 Amsterdam Ave', 'address2': ...</td>\n",
       "      <td>+12128750050</td>\n",
       "      <td>(212) 875-0050</td>\n",
       "      <td>9566.504148</td>\n",
       "    </tr>\n",
       "    <tr>\n",
       "      <th>998</th>\n",
       "      <td>pe0kLJDb7DEWSKCbOS8D2g</td>\n",
       "      <td>otaiko-hibachi-and-sushi-lounge-bayonne</td>\n",
       "      <td>Otaiko Hibachi &amp; Sushi Lounge</td>\n",
       "      <td>https://s3-media4.fl.yelpcdn.com/bphoto/79friX...</td>\n",
       "      <td>False</td>\n",
       "      <td>https://www.yelp.com/biz/otaiko-hibachi-and-su...</td>\n",
       "      <td>246</td>\n",
       "      <td>[{'alias': 'japanese', 'title': 'Japanese'}, {...</td>\n",
       "      <td>4.0</td>\n",
       "      <td>{'latitude': 40.66791160879, 'longitude': -74....</td>\n",
       "      <td>[delivery, pickup]</td>\n",
       "      <td>$$</td>\n",
       "      <td>{'address1': '125 Lefante Way', 'address2': ''...</td>\n",
       "      <td>+12013393399</td>\n",
       "      <td>(201) 339-3399</td>\n",
       "      <td>10052.241383</td>\n",
       "    </tr>\n",
       "    <tr>\n",
       "      <th>999</th>\n",
       "      <td>_XLLSXPIjgoZQtwU3RCcQA</td>\n",
       "      <td>hunan-delight-brooklyn-2</td>\n",
       "      <td>Hunan Delight</td>\n",
       "      <td>https://s3-media3.fl.yelpcdn.com/bphoto/aS-LlY...</td>\n",
       "      <td>False</td>\n",
       "      <td>https://www.yelp.com/biz/hunan-delight-brookly...</td>\n",
       "      <td>346</td>\n",
       "      <td>[{'alias': 'chinese', 'title': 'Chinese'}]</td>\n",
       "      <td>4.0</td>\n",
       "      <td>{'latitude': 40.6755282563532, 'longitude': -7...</td>\n",
       "      <td>[delivery, pickup]</td>\n",
       "      <td>$$</td>\n",
       "      <td>{'address1': '752 Union St', 'address2': None,...</td>\n",
       "      <td>+17187891400</td>\n",
       "      <td>(718) 789-1400</td>\n",
       "      <td>3596.767124</td>\n",
       "    </tr>\n",
       "  </tbody>\n",
       "</table>\n",
       "</div>"
      ],
      "text/plain": [
       "                         id                                    alias  \\\n",
       "995  YbENoUWAXj_UdGK6UXajfw       hudson-blue-bar-and-view-weehawken   \n",
       "996  bMhqh_k_QZJMnVstIJzxRw                        thái-son-elmhurst   \n",
       "997  aGmsJ6_NWw5vnLS43MZLpA                         spice-new-york-4   \n",
       "998  pe0kLJDb7DEWSKCbOS8D2g  otaiko-hibachi-and-sushi-lounge-bayonne   \n",
       "999  _XLLSXPIjgoZQtwU3RCcQA                 hunan-delight-brooklyn-2   \n",
       "\n",
       "                              name  \\\n",
       "995       Hudson Blue Bar and View   \n",
       "996                       Thái Son   \n",
       "997                          Spice   \n",
       "998  Otaiko Hibachi & Sushi Lounge   \n",
       "999                  Hunan Delight   \n",
       "\n",
       "                                             image_url  is_closed  \\\n",
       "995  https://s3-media2.fl.yelpcdn.com/bphoto/RJJAJQ...      False   \n",
       "996  https://s3-media2.fl.yelpcdn.com/bphoto/8I0jtd...      False   \n",
       "997  https://s3-media2.fl.yelpcdn.com/bphoto/EiIMjZ...      False   \n",
       "998  https://s3-media4.fl.yelpcdn.com/bphoto/79friX...      False   \n",
       "999  https://s3-media3.fl.yelpcdn.com/bphoto/aS-LlY...      False   \n",
       "\n",
       "                                                   url  review_count  \\\n",
       "995  https://www.yelp.com/biz/hudson-blue-bar-and-v...            23   \n",
       "996  https://www.yelp.com/biz/th%C3%A1i-son-elmhurs...           547   \n",
       "997  https://www.yelp.com/biz/spice-new-york-4?adju...            55   \n",
       "998  https://www.yelp.com/biz/otaiko-hibachi-and-su...           246   \n",
       "999  https://www.yelp.com/biz/hunan-delight-brookly...           346   \n",
       "\n",
       "                                            categories  rating  \\\n",
       "995  [{'alias': 'sportsbars', 'title': 'Sports Bars...     4.0   \n",
       "996   [{'alias': 'vietnamese', 'title': 'Vietnamese'}]     3.5   \n",
       "997         [{'alias': 'chinese', 'title': 'Chinese'}]     2.5   \n",
       "998  [{'alias': 'japanese', 'title': 'Japanese'}, {...     4.0   \n",
       "999         [{'alias': 'chinese', 'title': 'Chinese'}]     4.0   \n",
       "\n",
       "                                           coordinates        transactions  \\\n",
       "995  {'latitude': 40.776739823349494, 'longitude': ...          [delivery]   \n",
       "996     {'latitude': 40.74637, 'longitude': -73.89161}          [delivery]   \n",
       "997   {'latitude': 40.7900599, 'longitude': -73.97351}  [delivery, pickup]   \n",
       "998  {'latitude': 40.66791160879, 'longitude': -74....  [delivery, pickup]   \n",
       "999  {'latitude': 40.6755282563532, 'longitude': -7...  [delivery, pickup]   \n",
       "\n",
       "    price                                           location         phone  \\\n",
       "995    $$  {'address1': '4800 Ave Port Imperial Blvd', 'a...  +12013483200   \n",
       "996    $$  {'address1': '40-10 74th St', 'address2': '', ...  +17184766805   \n",
       "997     $  {'address1': '610 Amsterdam Ave', 'address2': ...  +12128750050   \n",
       "998    $$  {'address1': '125 Lefante Way', 'address2': ''...  +12013393399   \n",
       "999    $$  {'address1': '752 Union St', 'address2': None,...  +17187891400   \n",
       "\n",
       "      display_phone      distance  \n",
       "995  (201) 348-3200   8048.974132  \n",
       "996  (718) 476-6805   9773.038269  \n",
       "997  (212) 875-0050   9566.504148  \n",
       "998  (201) 339-3399  10052.241383  \n",
       "999  (718) 789-1400   3596.767124  "
      ]
     },
     "metadata": {},
     "output_type": "display_data"
    }
   ],
   "source": [
    "# load final results\n",
    "final_df = pd.read_json(JSON_FILE)\n",
    "display(final_df.head(), final_df.tail())"
   ]
  },
  {
   "cell_type": "code",
   "execution_count": 97,
   "id": "4c87a0f9-78c3-425d-8a7f-6bd5db09255e",
   "metadata": {},
   "outputs": [
    {
     "data": {
      "text/plain": [
       "0"
      ]
     },
     "execution_count": 97,
     "metadata": {},
     "output_type": "execute_result"
    }
   ],
   "source": [
    "# check for duplicate ID's \n",
    "final_df.duplicated(subset='id').sum()"
   ]
  },
  {
   "cell_type": "markdown",
   "id": "813a4e3c-ec19-4351-a67e-459ec5330902",
   "metadata": {},
   "source": [
    "No duplicates to delete in file."
   ]
  },
  {
   "cell_type": "code",
   "execution_count": 98,
   "id": "911b8233-cccb-4352-b5f0-20c4c421a709",
   "metadata": {},
   "outputs": [],
   "source": [
    "# save the final results to a compressed csv\n",
    "final_df.to_csv('Data/final_results_ny_thai.csv.gz', compression='gzip',index=False)"
   ]
  }
 ],
 "metadata": {
  "kernelspec": {
   "display_name": "Python 3 (ipykernel)",
   "language": "python",
   "name": "python3"
  },
  "language_info": {
   "codemirror_mode": {
    "name": "ipython",
    "version": 3
   },
   "file_extension": ".py",
   "mimetype": "text/x-python",
   "name": "python",
   "nbconvert_exporter": "python",
   "pygments_lexer": "ipython3",
   "version": "3.10.10"
  },
  "widgets": {
   "application/vnd.jupyter.widget-state+json": {
    "state": {
     "00f05de908634ff68457d2558bc66294": {
      "model_module": "@jupyter-widgets/controls",
      "model_module_version": "2.0.0",
      "model_name": "HTMLStyleModel",
      "state": {
       "description_width": "",
       "font_size": null,
       "text_color": null
      }
     },
     "02c53e88c01a4b20b014d245a0444249": {
      "model_module": "@jupyter-widgets/controls",
      "model_module_version": "2.0.0",
      "model_name": "HTMLStyleModel",
      "state": {
       "description_width": "",
       "font_size": null,
       "text_color": null
      }
     },
     "0404b958e33245388c342d0a3d9fbf89": {
      "model_module": "@jupyter-widgets/controls",
      "model_module_version": "2.0.0",
      "model_name": "FloatProgressModel",
      "state": {
       "bar_style": "danger",
       "layout": "IPY_MODEL_afe3a23680414d48b87ad4f396573d09",
       "max": 145,
       "style": "IPY_MODEL_f65d76eb159748b0824597ca83993aa5",
       "value": 49
      }
     },
     "04cf7d6e96c44d1eb950a3cfde22a966": {
      "model_module": "@jupyter-widgets/controls",
      "model_module_version": "2.0.0",
      "model_name": "HTMLStyleModel",
      "state": {
       "description_width": "",
       "font_size": null,
       "text_color": null
      }
     },
     "054e6f8164624776b2fa1051fb20c555": {
      "model_module": "@jupyter-widgets/controls",
      "model_module_version": "2.0.0",
      "model_name": "ProgressStyleModel",
      "state": {
       "description_width": ""
      }
     },
     "0761db16baeb45fb96372535dd8ce93e": {
      "model_module": "@jupyter-widgets/base",
      "model_module_version": "2.0.0",
      "model_name": "LayoutModel",
      "state": {}
     },
     "09546c429fc1442ebd38ebb1c1217889": {
      "model_module": "@jupyter-widgets/controls",
      "model_module_version": "2.0.0",
      "model_name": "ProgressStyleModel",
      "state": {
       "description_width": ""
      }
     },
     "0cea7b39038347c1b255909b013864c3": {
      "model_module": "@jupyter-widgets/base",
      "model_module_version": "2.0.0",
      "model_name": "LayoutModel",
      "state": {}
     },
     "0e7fd4b1d4444599b2bb7f852d6d7165": {
      "model_module": "@jupyter-widgets/controls",
      "model_module_version": "2.0.0",
      "model_name": "FloatProgressModel",
      "state": {
       "bar_style": "success",
       "layout": "IPY_MODEL_c3a169a14b7545fa8a92d49b1826de85",
       "max": 145,
       "style": "IPY_MODEL_cea446b168844caa956600d6ed213579",
       "value": 145
      }
     },
     "0f3851d211134732b8e6809b66aee27e": {
      "model_module": "@jupyter-widgets/base",
      "model_module_version": "2.0.0",
      "model_name": "LayoutModel",
      "state": {}
     },
     "0f7658986e0744e99e00633d6bcbcaa9": {
      "model_module": "@jupyter-widgets/base",
      "model_module_version": "2.0.0",
      "model_name": "LayoutModel",
      "state": {}
     },
     "10a3e07aca5f44cf8ed6de7a39f43c6c": {
      "model_module": "@jupyter-widgets/controls",
      "model_module_version": "2.0.0",
      "model_name": "HTMLStyleModel",
      "state": {
       "description_width": "",
       "font_size": null,
       "text_color": null
      }
     },
     "10a4ea65a8c648f4b0b78512358d0f19": {
      "model_module": "@jupyter-widgets/base",
      "model_module_version": "2.0.0",
      "model_name": "LayoutModel",
      "state": {}
     },
     "16e01ec7346d44a3bb679242a42cab25": {
      "model_module": "@jupyter-widgets/controls",
      "model_module_version": "2.0.0",
      "model_name": "HBoxModel",
      "state": {
       "children": [
        "IPY_MODEL_1fd9928bd06f405ab0453598cc1be1e8",
        "IPY_MODEL_d144ce4c027f4ea1b59e80ecbfdfb36a",
        "IPY_MODEL_88eeb4f9e4c14c5c8e6fd5cd70113735"
       ],
       "layout": "IPY_MODEL_ba32209c950842748e96460d21606e37"
      }
     },
     "1ac38df1ef404c6993f1f012ab4bc972": {
      "model_module": "@jupyter-widgets/controls",
      "model_module_version": "2.0.0",
      "model_name": "HBoxModel",
      "state": {
       "children": [
        "IPY_MODEL_ddaaaf7eee504d34b6a3abb7bd8047e4",
        "IPY_MODEL_8aedab2b92d943c5845a2757d3d250da",
        "IPY_MODEL_3ff4d188855d40e4a1d75c210983a9bb"
       ],
       "layout": "IPY_MODEL_32b7aa7c239b4ca8b285a0c4c5f849e2"
      }
     },
     "1bb2f3f6a7a4437aba48406c6f5dd304": {
      "model_module": "@jupyter-widgets/base",
      "model_module_version": "2.0.0",
      "model_name": "LayoutModel",
      "state": {}
     },
     "1d0efaac765f43b8903b1a06d7d8c1ae": {
      "model_module": "@jupyter-widgets/controls",
      "model_module_version": "2.0.0",
      "model_name": "FloatProgressModel",
      "state": {
       "bar_style": "danger",
       "layout": "IPY_MODEL_4f9835891c3f4e2e8e23fee9fa221380",
       "max": 145,
       "style": "IPY_MODEL_5eadf75537214376aa7f9cb67c9d4ef8"
      }
     },
     "1db149d76b14478ea4a5e81ec621498e": {
      "model_module": "@jupyter-widgets/controls",
      "model_module_version": "2.0.0",
      "model_name": "HTMLModel",
      "state": {
       "layout": "IPY_MODEL_9f648295a6764f10a03bce3692830c15",
       "style": "IPY_MODEL_c359d69ef126454a8922b64ad1ab747c",
       "value": " 145/145 [00:30&lt;00:00,  4.80it/s]"
      }
     },
     "1db8f5d28c1f4cf6a806af767158fc2e": {
      "model_module": "@jupyter-widgets/controls",
      "model_module_version": "2.0.0",
      "model_name": "HBoxModel",
      "state": {
       "children": [
        "IPY_MODEL_2cce75ba474e4023b38592ab5400ffb2",
        "IPY_MODEL_437bc748c0064bac90ee7c0c0c6cd30e",
        "IPY_MODEL_82b56a4e9e734987abe43ef8d2526e7d"
       ],
       "layout": "IPY_MODEL_c9070d5666d64c6ba6bf6ca28cf416b7"
      }
     },
     "1fd9928bd06f405ab0453598cc1be1e8": {
      "model_module": "@jupyter-widgets/controls",
      "model_module_version": "2.0.0",
      "model_name": "HTMLModel",
      "state": {
       "layout": "IPY_MODEL_eed5e1192d8f4749986fd65eb0c6858d",
       "style": "IPY_MODEL_10a3e07aca5f44cf8ed6de7a39f43c6c",
       "value": " 34%"
      }
     },
     "202a6f7d6aee4c9da72fa1d449cf3f42": {
      "model_module": "@jupyter-widgets/controls",
      "model_module_version": "2.0.0",
      "model_name": "HTMLModel",
      "state": {
       "layout": "IPY_MODEL_5f3262f1b354480ca3fd9576f71a0414",
       "style": "IPY_MODEL_04cf7d6e96c44d1eb950a3cfde22a966",
       "value": " 145/145 [00:29&lt;00:00,  4.92it/s]"
      }
     },
     "2046202ffa6b4693b74ee5dcd5c83cde": {
      "model_module": "@jupyter-widgets/controls",
      "model_module_version": "2.0.0",
      "model_name": "HTMLModel",
      "state": {
       "layout": "IPY_MODEL_2e2d644cd5194889bf27f8eb13ebbb79",
       "style": "IPY_MODEL_00f05de908634ff68457d2558bc66294",
       "value": " 145/145 [00:30&lt;00:00,  4.72it/s]"
      }
     },
     "25d9134f38eb4bad8005665c85ec01d0": {
      "model_module": "@jupyter-widgets/controls",
      "model_module_version": "2.0.0",
      "model_name": "HTMLStyleModel",
      "state": {
       "description_width": "",
       "font_size": null,
       "text_color": null
      }
     },
     "265fb9e771b542ac87d60b4f26202a44": {
      "model_module": "@jupyter-widgets/controls",
      "model_module_version": "2.0.0",
      "model_name": "HTMLModel",
      "state": {
       "layout": "IPY_MODEL_380e750ea3954675b4c0ae8983c22c18",
       "style": "IPY_MODEL_a6b16f40f4a6497197e64ef8426cb1b7",
       "value": "100%"
      }
     },
     "2cce75ba474e4023b38592ab5400ffb2": {
      "model_module": "@jupyter-widgets/controls",
      "model_module_version": "2.0.0",
      "model_name": "HTMLModel",
      "state": {
       "layout": "IPY_MODEL_b485d06bfce7484a9f90d616c3bcb030",
       "style": "IPY_MODEL_6e58a1f58b5e4a5aaad24854f8afc22d",
       "value": " 34%"
      }
     },
     "2e2d644cd5194889bf27f8eb13ebbb79": {
      "model_module": "@jupyter-widgets/base",
      "model_module_version": "2.0.0",
      "model_name": "LayoutModel",
      "state": {}
     },
     "2eed84d41d2044e8a0aa6bf2bcf4532a": {
      "model_module": "@jupyter-widgets/controls",
      "model_module_version": "2.0.0",
      "model_name": "HTMLStyleModel",
      "state": {
       "description_width": "",
       "font_size": null,
       "text_color": null
      }
     },
     "313f86da43a943f5be06d393143d7035": {
      "model_module": "@jupyter-widgets/base",
      "model_module_version": "2.0.0",
      "model_name": "LayoutModel",
      "state": {}
     },
     "324bdddbe61a4edfaf12f891085ad808": {
      "model_module": "@jupyter-widgets/controls",
      "model_module_version": "2.0.0",
      "model_name": "ProgressStyleModel",
      "state": {
       "description_width": ""
      }
     },
     "32b7aa7c239b4ca8b285a0c4c5f849e2": {
      "model_module": "@jupyter-widgets/base",
      "model_module_version": "2.0.0",
      "model_name": "LayoutModel",
      "state": {}
     },
     "33b0d3c2f3514436868b5ca0e553e0bf": {
      "model_module": "@jupyter-widgets/base",
      "model_module_version": "2.0.0",
      "model_name": "LayoutModel",
      "state": {}
     },
     "35edaec4eac246ee9ad33c5a69452c54": {
      "model_module": "@jupyter-widgets/controls",
      "model_module_version": "2.0.0",
      "model_name": "HTMLStyleModel",
      "state": {
       "description_width": "",
       "font_size": null,
       "text_color": null
      }
     },
     "369bcfa83ac04359a3e31d8500d45212": {
      "model_module": "@jupyter-widgets/controls",
      "model_module_version": "2.0.0",
      "model_name": "HTMLStyleModel",
      "state": {
       "description_width": "",
       "font_size": null,
       "text_color": null
      }
     },
     "380e750ea3954675b4c0ae8983c22c18": {
      "model_module": "@jupyter-widgets/base",
      "model_module_version": "2.0.0",
      "model_name": "LayoutModel",
      "state": {}
     },
     "39377beb3223430a9cf54d8a996db426": {
      "model_module": "@jupyter-widgets/controls",
      "model_module_version": "2.0.0",
      "model_name": "HBoxModel",
      "state": {
       "children": [
        "IPY_MODEL_89374fc8eae5430e80f733bba397e362",
        "IPY_MODEL_4b3ba0f0a80541b0a3e92f9b92578083",
        "IPY_MODEL_85cae34080bb40cb9b18b6eee33f50e4"
       ],
       "layout": "IPY_MODEL_a52ec769f59e45e38c370af5c1b728ea"
      }
     },
     "3a5b2e5185464099b45e35122b27f72f": {
      "model_module": "@jupyter-widgets/base",
      "model_module_version": "2.0.0",
      "model_name": "LayoutModel",
      "state": {}
     },
     "3cf19ad0182c46c99b8e0acb1efd8b01": {
      "model_module": "@jupyter-widgets/controls",
      "model_module_version": "2.0.0",
      "model_name": "HBoxModel",
      "state": {
       "children": [
        "IPY_MODEL_4a0f98de9abb4da3b56d82080d6d47d1",
        "IPY_MODEL_c417b9e6999444db9aae0863e06ef2b4",
        "IPY_MODEL_202a6f7d6aee4c9da72fa1d449cf3f42"
       ],
       "layout": "IPY_MODEL_0761db16baeb45fb96372535dd8ce93e"
      }
     },
     "3d47ed410b6140a29675990307ef27db": {
      "model_module": "@jupyter-widgets/controls",
      "model_module_version": "2.0.0",
      "model_name": "HTMLStyleModel",
      "state": {
       "description_width": "",
       "font_size": null,
       "text_color": null
      }
     },
     "3ff4d188855d40e4a1d75c210983a9bb": {
      "model_module": "@jupyter-widgets/controls",
      "model_module_version": "2.0.0",
      "model_name": "HTMLModel",
      "state": {
       "layout": "IPY_MODEL_8e1620db68b441eb9e7728166de931e5",
       "style": "IPY_MODEL_5e244520e3a447beb67b6cf53cfe6190",
       "value": " 49/145 [01:15&lt;03:09,  1.97s/it]"
      }
     },
     "3ff54ad3cd51483fa648d59a13fd39c4": {
      "model_module": "@jupyter-widgets/base",
      "model_module_version": "2.0.0",
      "model_name": "LayoutModel",
      "state": {}
     },
     "4220d317ba2b48b09e66ca1302987e3c": {
      "model_module": "@jupyter-widgets/base",
      "model_module_version": "2.0.0",
      "model_name": "LayoutModel",
      "state": {}
     },
     "437bc748c0064bac90ee7c0c0c6cd30e": {
      "model_module": "@jupyter-widgets/controls",
      "model_module_version": "2.0.0",
      "model_name": "FloatProgressModel",
      "state": {
       "bar_style": "danger",
       "layout": "IPY_MODEL_b0a5e2d0016741f7bdc0b3d5d10f8518",
       "max": 145,
       "style": "IPY_MODEL_cd2fd5dca9c64e8894232ddc528ad485",
       "value": 50
      }
     },
     "437e03c339044188a6fd191f49d36c29": {
      "model_module": "@jupyter-widgets/controls",
      "model_module_version": "2.0.0",
      "model_name": "HBoxModel",
      "state": {
       "children": [
        "IPY_MODEL_265fb9e771b542ac87d60b4f26202a44",
        "IPY_MODEL_7c0c20ab75e34dc5b833fc86764609bf",
        "IPY_MODEL_ae885884bd494fd98e25e17ad5161af1"
       ],
       "layout": "IPY_MODEL_0cea7b39038347c1b255909b013864c3"
      }
     },
     "43a2133f315e434a934ee37476405ae9": {
      "model_module": "@jupyter-widgets/controls",
      "model_module_version": "2.0.0",
      "model_name": "HTMLStyleModel",
      "state": {
       "description_width": "",
       "font_size": null,
       "text_color": null
      }
     },
     "46c50fdd2c3f4ad59d0824dd0811fec3": {
      "model_module": "@jupyter-widgets/controls",
      "model_module_version": "2.0.0",
      "model_name": "HTMLStyleModel",
      "state": {
       "description_width": "",
       "font_size": null,
       "text_color": null
      }
     },
     "47609eafbc964eaa94de1335e2ed455f": {
      "model_module": "@jupyter-widgets/controls",
      "model_module_version": "2.0.0",
      "model_name": "HTMLModel",
      "state": {
       "layout": "IPY_MODEL_f9039d833877409a9170e1a5f59acf2f",
       "style": "IPY_MODEL_590400bb5cf84e64853e48792d99d0f4",
       "value": " 0/145 [00:05&lt;?, ?it/s]"
      }
     },
     "4a0f98de9abb4da3b56d82080d6d47d1": {
      "model_module": "@jupyter-widgets/controls",
      "model_module_version": "2.0.0",
      "model_name": "HTMLModel",
      "state": {
       "layout": "IPY_MODEL_33b0d3c2f3514436868b5ca0e553e0bf",
       "style": "IPY_MODEL_46c50fdd2c3f4ad59d0824dd0811fec3",
       "value": "100%"
      }
     },
     "4b3ba0f0a80541b0a3e92f9b92578083": {
      "model_module": "@jupyter-widgets/controls",
      "model_module_version": "2.0.0",
      "model_name": "FloatProgressModel",
      "state": {
       "bar_style": "danger",
       "layout": "IPY_MODEL_d68b103b2af8499695e1b0bacd14c073",
       "max": 145,
       "style": "IPY_MODEL_054e6f8164624776b2fa1051fb20c555",
       "value": 49
      }
     },
     "4cde8b256b58478a8b9bc2865ecc023a": {
      "model_module": "@jupyter-widgets/controls",
      "model_module_version": "2.0.0",
      "model_name": "HBoxModel",
      "state": {
       "children": [
        "IPY_MODEL_a36916a7e5ff4458a8cb4831ed506a0d",
        "IPY_MODEL_1d0efaac765f43b8903b1a06d7d8c1ae",
        "IPY_MODEL_47609eafbc964eaa94de1335e2ed455f"
       ],
       "layout": "IPY_MODEL_9b09f0de68334256b1e58c2f9724802b"
      }
     },
     "4d3e40d9aaaa46bfb63c015092d70aa4": {
      "model_module": "@jupyter-widgets/controls",
      "model_module_version": "2.0.0",
      "model_name": "ProgressStyleModel",
      "state": {
       "description_width": ""
      }
     },
     "4f9835891c3f4e2e8e23fee9fa221380": {
      "model_module": "@jupyter-widgets/base",
      "model_module_version": "2.0.0",
      "model_name": "LayoutModel",
      "state": {}
     },
     "5219c17837b8466fbed4f90c2a57526d": {
      "model_module": "@jupyter-widgets/base",
      "model_module_version": "2.0.0",
      "model_name": "LayoutModel",
      "state": {}
     },
     "5433f720c3ad4e7cb25cab006ccc4552": {
      "model_module": "@jupyter-widgets/controls",
      "model_module_version": "2.0.0",
      "model_name": "FloatProgressModel",
      "state": {
       "bar_style": "success",
       "layout": "IPY_MODEL_4220d317ba2b48b09e66ca1302987e3c",
       "max": 145,
       "style": "IPY_MODEL_4d3e40d9aaaa46bfb63c015092d70aa4",
       "value": 145
      }
     },
     "54bdf4887c2b490e866997f3eda69e91": {
      "model_module": "@jupyter-widgets/base",
      "model_module_version": "2.0.0",
      "model_name": "LayoutModel",
      "state": {}
     },
     "554d4e1adc81466d91bc6fe2f8a78474": {
      "model_module": "@jupyter-widgets/base",
      "model_module_version": "2.0.0",
      "model_name": "LayoutModel",
      "state": {}
     },
     "590400bb5cf84e64853e48792d99d0f4": {
      "model_module": "@jupyter-widgets/controls",
      "model_module_version": "2.0.0",
      "model_name": "HTMLStyleModel",
      "state": {
       "description_width": "",
       "font_size": null,
       "text_color": null
      }
     },
     "5e244520e3a447beb67b6cf53cfe6190": {
      "model_module": "@jupyter-widgets/controls",
      "model_module_version": "2.0.0",
      "model_name": "HTMLStyleModel",
      "state": {
       "description_width": "",
       "font_size": null,
       "text_color": null
      }
     },
     "5eadf75537214376aa7f9cb67c9d4ef8": {
      "model_module": "@jupyter-widgets/controls",
      "model_module_version": "2.0.0",
      "model_name": "ProgressStyleModel",
      "state": {
       "description_width": ""
      }
     },
     "5f3262f1b354480ca3fd9576f71a0414": {
      "model_module": "@jupyter-widgets/base",
      "model_module_version": "2.0.0",
      "model_name": "LayoutModel",
      "state": {}
     },
     "63510c0efbe745b8b187f71edc1fdaff": {
      "model_module": "@jupyter-widgets/base",
      "model_module_version": "2.0.0",
      "model_name": "LayoutModel",
      "state": {}
     },
     "65ff2a07f4a64b3f81553615c28c39e0": {
      "model_module": "@jupyter-widgets/base",
      "model_module_version": "2.0.0",
      "model_name": "LayoutModel",
      "state": {}
     },
     "6c29b83bfcef4e078f110f2cae0db9c8": {
      "model_module": "@jupyter-widgets/base",
      "model_module_version": "2.0.0",
      "model_name": "LayoutModel",
      "state": {}
     },
     "6e58a1f58b5e4a5aaad24854f8afc22d": {
      "model_module": "@jupyter-widgets/controls",
      "model_module_version": "2.0.0",
      "model_name": "HTMLStyleModel",
      "state": {
       "description_width": "",
       "font_size": null,
       "text_color": null
      }
     },
     "6fb59b4aa0f84011ac37c88bb3ebdae6": {
      "model_module": "@jupyter-widgets/controls",
      "model_module_version": "2.0.0",
      "model_name": "HTMLStyleModel",
      "state": {
       "description_width": "",
       "font_size": null,
       "text_color": null
      }
     },
     "713cc3aed12f447da74d4b3e4afe14e7": {
      "model_module": "@jupyter-widgets/base",
      "model_module_version": "2.0.0",
      "model_name": "LayoutModel",
      "state": {}
     },
     "749be1795c6548ddaebefebc4d5a0d72": {
      "model_module": "@jupyter-widgets/base",
      "model_module_version": "2.0.0",
      "model_name": "LayoutModel",
      "state": {}
     },
     "787d30844a3940768221846b6b6c2730": {
      "model_module": "@jupyter-widgets/controls",
      "model_module_version": "2.0.0",
      "model_name": "HTMLModel",
      "state": {
       "layout": "IPY_MODEL_9004cc2e424b47dbbe9e829430c2b274",
       "style": "IPY_MODEL_a5f1835175dd4dec80b0093c0d184b95",
       "value": " 49/145 [01:14&lt;03:08,  1.97s/it]"
      }
     },
     "78e527740bac4cae818dd300d97498e1": {
      "model_module": "@jupyter-widgets/controls",
      "model_module_version": "2.0.0",
      "model_name": "FloatProgressModel",
      "state": {
       "bar_style": "danger",
       "layout": "IPY_MODEL_713cc3aed12f447da74d4b3e4afe14e7",
       "max": 145,
       "style": "IPY_MODEL_324bdddbe61a4edfaf12f891085ad808",
       "value": 50
      }
     },
     "7a5398b359cb4baeb162b6ff44d2ff12": {
      "model_module": "@jupyter-widgets/controls",
      "model_module_version": "2.0.0",
      "model_name": "HTMLModel",
      "state": {
       "layout": "IPY_MODEL_1bb2f3f6a7a4437aba48406c6f5dd304",
       "style": "IPY_MODEL_3d47ed410b6140a29675990307ef27db",
       "value": "100%"
      }
     },
     "7b37fafdbbec4e0da540ac40b76e98e6": {
      "model_module": "@jupyter-widgets/controls",
      "model_module_version": "2.0.0",
      "model_name": "HTMLModel",
      "state": {
       "layout": "IPY_MODEL_3ff54ad3cd51483fa648d59a13fd39c4",
       "style": "IPY_MODEL_bd5cee9730d84ec0a1140078790ff123",
       "value": " 145/145 [00:30&lt;00:00,  4.85it/s]"
      }
     },
     "7c0c20ab75e34dc5b833fc86764609bf": {
      "model_module": "@jupyter-widgets/controls",
      "model_module_version": "2.0.0",
      "model_name": "FloatProgressModel",
      "state": {
       "bar_style": "success",
       "layout": "IPY_MODEL_aedf20320a7a4877b83b18eabe0cb280",
       "max": 145,
       "style": "IPY_MODEL_b3c76d8c660843b4bb31e7ea327eaedc",
       "value": 145
      }
     },
     "7e3a72086a0c48508e7fefec0e48cb0f": {
      "model_module": "@jupyter-widgets/base",
      "model_module_version": "2.0.0",
      "model_name": "LayoutModel",
      "state": {}
     },
     "807ba11288544cdd90db317fe3e48351": {
      "model_module": "@jupyter-widgets/controls",
      "model_module_version": "2.0.0",
      "model_name": "HTMLStyleModel",
      "state": {
       "description_width": "",
       "font_size": null,
       "text_color": null
      }
     },
     "82b56a4e9e734987abe43ef8d2526e7d": {
      "model_module": "@jupyter-widgets/controls",
      "model_module_version": "2.0.0",
      "model_name": "HTMLModel",
      "state": {
       "layout": "IPY_MODEL_b66699af192a435fb48321fc4db8ce53",
       "style": "IPY_MODEL_43a2133f315e434a934ee37476405ae9",
       "value": " 50/145 [01:13&lt;03:18,  2.09s/it]"
      }
     },
     "8429aabb65784899922d89bf1286035d": {
      "model_module": "@jupyter-widgets/base",
      "model_module_version": "2.0.0",
      "model_name": "LayoutModel",
      "state": {}
     },
     "85cae34080bb40cb9b18b6eee33f50e4": {
      "model_module": "@jupyter-widgets/controls",
      "model_module_version": "2.0.0",
      "model_name": "HTMLModel",
      "state": {
       "layout": "IPY_MODEL_6c29b83bfcef4e078f110f2cae0db9c8",
       "style": "IPY_MODEL_b830b46bb59045488bbdbe83da1e17bf",
       "value": " 49/145 [01:17&lt;03:16,  2.04s/it]"
      }
     },
     "88eeb4f9e4c14c5c8e6fd5cd70113735": {
      "model_module": "@jupyter-widgets/controls",
      "model_module_version": "2.0.0",
      "model_name": "HTMLModel",
      "state": {
       "layout": "IPY_MODEL_8cdcab380de441dc998278f676201446",
       "style": "IPY_MODEL_25d9134f38eb4bad8005665c85ec01d0",
       "value": " 49/145 [01:14&lt;03:13,  2.01s/it]"
      }
     },
     "89374fc8eae5430e80f733bba397e362": {
      "model_module": "@jupyter-widgets/controls",
      "model_module_version": "2.0.0",
      "model_name": "HTMLModel",
      "state": {
       "layout": "IPY_MODEL_749be1795c6548ddaebefebc4d5a0d72",
       "style": "IPY_MODEL_6fb59b4aa0f84011ac37c88bb3ebdae6",
       "value": " 34%"
      }
     },
     "8aedab2b92d943c5845a2757d3d250da": {
      "model_module": "@jupyter-widgets/controls",
      "model_module_version": "2.0.0",
      "model_name": "FloatProgressModel",
      "state": {
       "bar_style": "danger",
       "layout": "IPY_MODEL_3a5b2e5185464099b45e35122b27f72f",
       "max": 145,
       "style": "IPY_MODEL_ec89337276c6443da3d6c636376bb692",
       "value": 49
      }
     },
     "8cdcab380de441dc998278f676201446": {
      "model_module": "@jupyter-widgets/base",
      "model_module_version": "2.0.0",
      "model_name": "LayoutModel",
      "state": {}
     },
     "8e1620db68b441eb9e7728166de931e5": {
      "model_module": "@jupyter-widgets/base",
      "model_module_version": "2.0.0",
      "model_name": "LayoutModel",
      "state": {}
     },
     "9004cc2e424b47dbbe9e829430c2b274": {
      "model_module": "@jupyter-widgets/base",
      "model_module_version": "2.0.0",
      "model_name": "LayoutModel",
      "state": {}
     },
     "98faf56329e043eda0b1e74228d88072": {
      "model_module": "@jupyter-widgets/controls",
      "model_module_version": "2.0.0",
      "model_name": "ProgressStyleModel",
      "state": {
       "description_width": ""
      }
     },
     "9b09f0de68334256b1e58c2f9724802b": {
      "model_module": "@jupyter-widgets/base",
      "model_module_version": "2.0.0",
      "model_name": "LayoutModel",
      "state": {}
     },
     "9b0f1aabd7d1471190615f0c65145615": {
      "model_module": "@jupyter-widgets/base",
      "model_module_version": "2.0.0",
      "model_name": "LayoutModel",
      "state": {}
     },
     "9b76029cec794483a0c66b5105749388": {
      "model_module": "@jupyter-widgets/base",
      "model_module_version": "2.0.0",
      "model_name": "LayoutModel",
      "state": {}
     },
     "9f648295a6764f10a03bce3692830c15": {
      "model_module": "@jupyter-widgets/base",
      "model_module_version": "2.0.0",
      "model_name": "LayoutModel",
      "state": {}
     },
     "a36916a7e5ff4458a8cb4831ed506a0d": {
      "model_module": "@jupyter-widgets/controls",
      "model_module_version": "2.0.0",
      "model_name": "HTMLModel",
      "state": {
       "layout": "IPY_MODEL_ce6a69afcc1e47a89af29a52e911ea01",
       "style": "IPY_MODEL_f1002188fdcf4733b0971ee75f270009",
       "value": "  0%"
      }
     },
     "a52ec769f59e45e38c370af5c1b728ea": {
      "model_module": "@jupyter-widgets/base",
      "model_module_version": "2.0.0",
      "model_name": "LayoutModel",
      "state": {}
     },
     "a56755b249654f69a084cc7390a30a7d": {
      "model_module": "@jupyter-widgets/controls",
      "model_module_version": "2.0.0",
      "model_name": "HBoxModel",
      "state": {
       "children": [
        "IPY_MODEL_ec44aa7329864faf9a24c29fa8bb76b2",
        "IPY_MODEL_5433f720c3ad4e7cb25cab006ccc4552",
        "IPY_MODEL_1db149d76b14478ea4a5e81ec621498e"
       ],
       "layout": "IPY_MODEL_313f86da43a943f5be06d393143d7035"
      }
     },
     "a5f1835175dd4dec80b0093c0d184b95": {
      "model_module": "@jupyter-widgets/controls",
      "model_module_version": "2.0.0",
      "model_name": "HTMLStyleModel",
      "state": {
       "description_width": "",
       "font_size": null,
       "text_color": null
      }
     },
     "a6b16f40f4a6497197e64ef8426cb1b7": {
      "model_module": "@jupyter-widgets/controls",
      "model_module_version": "2.0.0",
      "model_name": "HTMLStyleModel",
      "state": {
       "description_width": "",
       "font_size": null,
       "text_color": null
      }
     },
     "ae885884bd494fd98e25e17ad5161af1": {
      "model_module": "@jupyter-widgets/controls",
      "model_module_version": "2.0.0",
      "model_name": "HTMLModel",
      "state": {
       "layout": "IPY_MODEL_10a4ea65a8c648f4b0b78512358d0f19",
       "style": "IPY_MODEL_369bcfa83ac04359a3e31d8500d45212",
       "value": " 145/145 [00:30&lt;00:00,  4.88it/s]"
      }
     },
     "aedf20320a7a4877b83b18eabe0cb280": {
      "model_module": "@jupyter-widgets/base",
      "model_module_version": "2.0.0",
      "model_name": "LayoutModel",
      "state": {}
     },
     "afe3a23680414d48b87ad4f396573d09": {
      "model_module": "@jupyter-widgets/base",
      "model_module_version": "2.0.0",
      "model_name": "LayoutModel",
      "state": {}
     },
     "b0a5e2d0016741f7bdc0b3d5d10f8518": {
      "model_module": "@jupyter-widgets/base",
      "model_module_version": "2.0.0",
      "model_name": "LayoutModel",
      "state": {}
     },
     "b3c76d8c660843b4bb31e7ea327eaedc": {
      "model_module": "@jupyter-widgets/controls",
      "model_module_version": "2.0.0",
      "model_name": "ProgressStyleModel",
      "state": {
       "description_width": ""
      }
     },
     "b485d06bfce7484a9f90d616c3bcb030": {
      "model_module": "@jupyter-widgets/base",
      "model_module_version": "2.0.0",
      "model_name": "LayoutModel",
      "state": {}
     },
     "b66699af192a435fb48321fc4db8ce53": {
      "model_module": "@jupyter-widgets/base",
      "model_module_version": "2.0.0",
      "model_name": "LayoutModel",
      "state": {}
     },
     "b830b46bb59045488bbdbe83da1e17bf": {
      "model_module": "@jupyter-widgets/controls",
      "model_module_version": "2.0.0",
      "model_name": "HTMLStyleModel",
      "state": {
       "description_width": "",
       "font_size": null,
       "text_color": null
      }
     },
     "ba32209c950842748e96460d21606e37": {
      "model_module": "@jupyter-widgets/base",
      "model_module_version": "2.0.0",
      "model_name": "LayoutModel",
      "state": {}
     },
     "bd5cee9730d84ec0a1140078790ff123": {
      "model_module": "@jupyter-widgets/controls",
      "model_module_version": "2.0.0",
      "model_name": "HTMLStyleModel",
      "state": {
       "description_width": "",
       "font_size": null,
       "text_color": null
      }
     },
     "bfd79b87beb34324b200d05370e949c2": {
      "model_module": "@jupyter-widgets/controls",
      "model_module_version": "2.0.0",
      "model_name": "HTMLModel",
      "state": {
       "layout": "IPY_MODEL_65ff2a07f4a64b3f81553615c28c39e0",
       "style": "IPY_MODEL_ed9abf88d15e4d41aa29a0740a8a54c5",
       "value": " 50/145 [01:14&lt;03:08,  1.98s/it]"
      }
     },
     "c359d69ef126454a8922b64ad1ab747c": {
      "model_module": "@jupyter-widgets/controls",
      "model_module_version": "2.0.0",
      "model_name": "HTMLStyleModel",
      "state": {
       "description_width": "",
       "font_size": null,
       "text_color": null
      }
     },
     "c3a169a14b7545fa8a92d49b1826de85": {
      "model_module": "@jupyter-widgets/base",
      "model_module_version": "2.0.0",
      "model_name": "LayoutModel",
      "state": {}
     },
     "c417b9e6999444db9aae0863e06ef2b4": {
      "model_module": "@jupyter-widgets/controls",
      "model_module_version": "2.0.0",
      "model_name": "FloatProgressModel",
      "state": {
       "bar_style": "success",
       "layout": "IPY_MODEL_8429aabb65784899922d89bf1286035d",
       "max": 145,
       "style": "IPY_MODEL_f1081e5df1264eb894ba253436e0c5fd",
       "value": 145
      }
     },
     "c710aa32a7c4495186d10bfdb76e3c1e": {
      "model_module": "@jupyter-widgets/controls",
      "model_module_version": "2.0.0",
      "model_name": "HBoxModel",
      "state": {
       "children": [
        "IPY_MODEL_f6056836cda8462f9c30c2db82f4e41a",
        "IPY_MODEL_78e527740bac4cae818dd300d97498e1",
        "IPY_MODEL_bfd79b87beb34324b200d05370e949c2"
       ],
       "layout": "IPY_MODEL_7e3a72086a0c48508e7fefec0e48cb0f"
      }
     },
     "c9070d5666d64c6ba6bf6ca28cf416b7": {
      "model_module": "@jupyter-widgets/base",
      "model_module_version": "2.0.0",
      "model_name": "LayoutModel",
      "state": {}
     },
     "cd2fd5dca9c64e8894232ddc528ad485": {
      "model_module": "@jupyter-widgets/controls",
      "model_module_version": "2.0.0",
      "model_name": "ProgressStyleModel",
      "state": {
       "description_width": ""
      }
     },
     "ce6a69afcc1e47a89af29a52e911ea01": {
      "model_module": "@jupyter-widgets/base",
      "model_module_version": "2.0.0",
      "model_name": "LayoutModel",
      "state": {}
     },
     "cea446b168844caa956600d6ed213579": {
      "model_module": "@jupyter-widgets/controls",
      "model_module_version": "2.0.0",
      "model_name": "ProgressStyleModel",
      "state": {
       "description_width": ""
      }
     },
     "d144ce4c027f4ea1b59e80ecbfdfb36a": {
      "model_module": "@jupyter-widgets/controls",
      "model_module_version": "2.0.0",
      "model_name": "FloatProgressModel",
      "state": {
       "bar_style": "danger",
       "layout": "IPY_MODEL_9b0f1aabd7d1471190615f0c65145615",
       "max": 145,
       "style": "IPY_MODEL_09546c429fc1442ebd38ebb1c1217889",
       "value": 49
      }
     },
     "d19c41ba794049f5a75e58bb6457c40f": {
      "model_module": "@jupyter-widgets/controls",
      "model_module_version": "2.0.0",
      "model_name": "HTMLStyleModel",
      "state": {
       "description_width": "",
       "font_size": null,
       "text_color": null
      }
     },
     "d68b103b2af8499695e1b0bacd14c073": {
      "model_module": "@jupyter-widgets/base",
      "model_module_version": "2.0.0",
      "model_name": "LayoutModel",
      "state": {}
     },
     "d757b201921c4acca292fd833d84663a": {
      "model_module": "@jupyter-widgets/controls",
      "model_module_version": "2.0.0",
      "model_name": "HBoxModel",
      "state": {
       "children": [
        "IPY_MODEL_7a5398b359cb4baeb162b6ff44d2ff12",
        "IPY_MODEL_f58433dfd6134ef68c8232250e849a04",
        "IPY_MODEL_7b37fafdbbec4e0da540ac40b76e98e6"
       ],
       "layout": "IPY_MODEL_0f3851d211134732b8e6809b66aee27e"
      }
     },
     "ddaaaf7eee504d34b6a3abb7bd8047e4": {
      "model_module": "@jupyter-widgets/controls",
      "model_module_version": "2.0.0",
      "model_name": "HTMLModel",
      "state": {
       "layout": "IPY_MODEL_63510c0efbe745b8b187f71edc1fdaff",
       "style": "IPY_MODEL_2eed84d41d2044e8a0aa6bf2bcf4532a",
       "value": " 34%"
      }
     },
     "e16198c7e1854c439673f18b064f3209": {
      "model_module": "@jupyter-widgets/controls",
      "model_module_version": "2.0.0",
      "model_name": "HBoxModel",
      "state": {
       "children": [
        "IPY_MODEL_ffdfdc31ede14b768fd624ca5cbe5712",
        "IPY_MODEL_0e7fd4b1d4444599b2bb7f852d6d7165",
        "IPY_MODEL_2046202ffa6b4693b74ee5dcd5c83cde"
       ],
       "layout": "IPY_MODEL_e88c406eea6a4713b83ae7200fda0850"
      }
     },
     "e3be1c5183934394af8ee01a0e375e8c": {
      "model_module": "@jupyter-widgets/controls",
      "model_module_version": "2.0.0",
      "model_name": "HTMLModel",
      "state": {
       "layout": "IPY_MODEL_ed957f6df5d5450aa92fdcac9e93145b",
       "style": "IPY_MODEL_35edaec4eac246ee9ad33c5a69452c54",
       "value": " 34%"
      }
     },
     "e88c406eea6a4713b83ae7200fda0850": {
      "model_module": "@jupyter-widgets/base",
      "model_module_version": "2.0.0",
      "model_name": "LayoutModel",
      "state": {}
     },
     "ec44aa7329864faf9a24c29fa8bb76b2": {
      "model_module": "@jupyter-widgets/controls",
      "model_module_version": "2.0.0",
      "model_name": "HTMLModel",
      "state": {
       "layout": "IPY_MODEL_554d4e1adc81466d91bc6fe2f8a78474",
       "style": "IPY_MODEL_807ba11288544cdd90db317fe3e48351",
       "value": "100%"
      }
     },
     "ec89337276c6443da3d6c636376bb692": {
      "model_module": "@jupyter-widgets/controls",
      "model_module_version": "2.0.0",
      "model_name": "ProgressStyleModel",
      "state": {
       "description_width": ""
      }
     },
     "ed957f6df5d5450aa92fdcac9e93145b": {
      "model_module": "@jupyter-widgets/base",
      "model_module_version": "2.0.0",
      "model_name": "LayoutModel",
      "state": {}
     },
     "ed9abf88d15e4d41aa29a0740a8a54c5": {
      "model_module": "@jupyter-widgets/controls",
      "model_module_version": "2.0.0",
      "model_name": "HTMLStyleModel",
      "state": {
       "description_width": "",
       "font_size": null,
       "text_color": null
      }
     },
     "eed5e1192d8f4749986fd65eb0c6858d": {
      "model_module": "@jupyter-widgets/base",
      "model_module_version": "2.0.0",
      "model_name": "LayoutModel",
      "state": {}
     },
     "f1002188fdcf4733b0971ee75f270009": {
      "model_module": "@jupyter-widgets/controls",
      "model_module_version": "2.0.0",
      "model_name": "HTMLStyleModel",
      "state": {
       "description_width": "",
       "font_size": null,
       "text_color": null
      }
     },
     "f1081e5df1264eb894ba253436e0c5fd": {
      "model_module": "@jupyter-widgets/controls",
      "model_module_version": "2.0.0",
      "model_name": "ProgressStyleModel",
      "state": {
       "description_width": ""
      }
     },
     "f58433dfd6134ef68c8232250e849a04": {
      "model_module": "@jupyter-widgets/controls",
      "model_module_version": "2.0.0",
      "model_name": "FloatProgressModel",
      "state": {
       "bar_style": "success",
       "layout": "IPY_MODEL_5219c17837b8466fbed4f90c2a57526d",
       "max": 145,
       "style": "IPY_MODEL_98faf56329e043eda0b1e74228d88072",
       "value": 145
      }
     },
     "f6056836cda8462f9c30c2db82f4e41a": {
      "model_module": "@jupyter-widgets/controls",
      "model_module_version": "2.0.0",
      "model_name": "HTMLModel",
      "state": {
       "layout": "IPY_MODEL_0f7658986e0744e99e00633d6bcbcaa9",
       "style": "IPY_MODEL_d19c41ba794049f5a75e58bb6457c40f",
       "value": " 34%"
      }
     },
     "f65d76eb159748b0824597ca83993aa5": {
      "model_module": "@jupyter-widgets/controls",
      "model_module_version": "2.0.0",
      "model_name": "ProgressStyleModel",
      "state": {
       "description_width": ""
      }
     },
     "f9039d833877409a9170e1a5f59acf2f": {
      "model_module": "@jupyter-widgets/base",
      "model_module_version": "2.0.0",
      "model_name": "LayoutModel",
      "state": {}
     },
     "f9ec047e6b084ea4bdbe12bb29e7f2cc": {
      "model_module": "@jupyter-widgets/controls",
      "model_module_version": "2.0.0",
      "model_name": "HBoxModel",
      "state": {
       "children": [
        "IPY_MODEL_e3be1c5183934394af8ee01a0e375e8c",
        "IPY_MODEL_0404b958e33245388c342d0a3d9fbf89",
        "IPY_MODEL_787d30844a3940768221846b6b6c2730"
       ],
       "layout": "IPY_MODEL_54bdf4887c2b490e866997f3eda69e91"
      }
     },
     "ffdfdc31ede14b768fd624ca5cbe5712": {
      "model_module": "@jupyter-widgets/controls",
      "model_module_version": "2.0.0",
      "model_name": "HTMLModel",
      "state": {
       "layout": "IPY_MODEL_9b76029cec794483a0c66b5105749388",
       "style": "IPY_MODEL_02c53e88c01a4b20b014d245a0444249",
       "value": "100%"
      }
     }
    },
    "version_major": 2,
    "version_minor": 0
   }
  }
 },
 "nbformat": 4,
 "nbformat_minor": 5
}
